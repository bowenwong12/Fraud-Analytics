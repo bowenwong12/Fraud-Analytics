{
 "cells": [
  {
   "cell_type": "code",
   "execution_count": 1,
   "metadata": {
    "ExecuteTime": {
     "end_time": "2021-02-10T09:06:45.741055Z",
     "start_time": "2021-02-10T09:06:44.385394Z"
    }
   },
   "outputs": [],
   "source": [
    "import numpy as np\n",
    "import pandas as pd\n",
    "from sklearn.decomposition import PCA\n",
    "import matplotlib.pyplot as plt\n",
    "import seaborn as sns"
   ]
  },
  {
   "cell_type": "markdown",
   "metadata": {},
   "source": [
    "# import original data"
   ]
  },
  {
   "cell_type": "code",
   "execution_count": 2,
   "metadata": {
    "ExecuteTime": {
     "end_time": "2021-02-10T09:06:48.293695Z",
     "start_time": "2021-02-10T09:06:45.742156Z"
    },
    "scrolled": true
   },
   "outputs": [
    {
     "name": "stdout",
     "output_type": "stream",
     "text": [
      "<class 'pandas.core.frame.DataFrame'>\n",
      "RangeIndex: 1070994 entries, 0 to 1070993\n",
      "Data columns (total 32 columns):\n",
      " #   Column    Non-Null Count    Dtype  \n",
      "---  ------    --------------    -----  \n",
      " 0   RECORD    1070994 non-null  int64  \n",
      " 1   BBLE      1070994 non-null  object \n",
      " 2   B         1070994 non-null  int64  \n",
      " 3   BLOCK     1070994 non-null  int64  \n",
      " 4   LOT       1070994 non-null  int64  \n",
      " 5   EASEMENT  4636 non-null     object \n",
      " 6   OWNER     1039249 non-null  object \n",
      " 7   BLDGCL    1070994 non-null  object \n",
      " 8   TAXCLASS  1070994 non-null  object \n",
      " 9   LTFRONT   1070994 non-null  int64  \n",
      " 10  LTDEPTH   1070994 non-null  int64  \n",
      " 11  EXT       354305 non-null   object \n",
      " 12  STORIES   1014730 non-null  float64\n",
      " 13  FULLVAL   1070994 non-null  float64\n",
      " 14  AVLAND    1070994 non-null  float64\n",
      " 15  AVTOT     1070994 non-null  float64\n",
      " 16  EXLAND    1070994 non-null  float64\n",
      " 17  EXTOT     1070994 non-null  float64\n",
      " 18  EXCD1     638488 non-null   float64\n",
      " 19  STADDR    1070318 non-null  object \n",
      " 20  ZIP       1041104 non-null  float64\n",
      " 21  EXMPTCL   15579 non-null    object \n",
      " 22  BLDFRONT  1070994 non-null  int64  \n",
      " 23  BLDDEPTH  1070994 non-null  int64  \n",
      " 24  AVLAND2   282726 non-null   float64\n",
      " 25  AVTOT2    282732 non-null   float64\n",
      " 26  EXLAND2   87449 non-null    float64\n",
      " 27  EXTOT2    130828 non-null   float64\n",
      " 28  EXCD2     92948 non-null    float64\n",
      " 29  PERIOD    1070994 non-null  object \n",
      " 30  YEAR      1070994 non-null  object \n",
      " 31  VALTYPE   1070994 non-null  object \n",
      "dtypes: float64(13), int64(8), object(11)\n",
      "memory usage: 261.5+ MB\n"
     ]
    }
   ],
   "source": [
    "property_data = pd.read_csv('NY property data.csv')\n",
    "property_data.info()"
   ]
  },
  {
   "cell_type": "markdown",
   "metadata": {},
   "source": [
    "# Cleaning data"
   ]
  },
  {
   "cell_type": "markdown",
   "metadata": {},
   "source": [
    "### ZIP"
   ]
  },
  {
   "cell_type": "code",
   "execution_count": 3,
   "metadata": {
    "ExecuteTime": {
     "end_time": "2021-02-10T09:06:48.308645Z",
     "start_time": "2021-02-10T09:06:48.296685Z"
    }
   },
   "outputs": [
    {
     "data": {
      "text/plain": [
       "29890"
      ]
     },
     "execution_count": 3,
     "metadata": {},
     "output_type": "execute_result"
    }
   ],
   "source": [
    "missing_zips = np.where(pd.isnull(property_data['ZIP']))[0]\n",
    "len(missing_zips)"
   ]
  },
  {
   "cell_type": "code",
   "execution_count": 4,
   "metadata": {
    "ExecuteTime": {
     "end_time": "2021-02-10T09:07:54.902965Z",
     "start_time": "2021-02-10T09:06:48.310258Z"
    }
   },
   "outputs": [],
   "source": [
    "for i in range(len(missing_zips)):\n",
    "    if (property_data.loc[missing_zips[i]+1, 'ZIP'] == property_data.loc[missing_zips[i]-1, 'ZIP']):\n",
    "        property_data.loc[missing_zips[i], 'ZIP'] = property_data.loc[missing_zips[i]-1, 'ZIP']"
   ]
  },
  {
   "cell_type": "code",
   "execution_count": 5,
   "metadata": {
    "ExecuteTime": {
     "end_time": "2021-02-10T09:07:54.918280Z",
     "start_time": "2021-02-10T09:07:54.904787Z"
    }
   },
   "outputs": [
    {
     "data": {
      "text/plain": [
       "16437"
      ]
     },
     "execution_count": 5,
     "metadata": {},
     "output_type": "execute_result"
    }
   ],
   "source": [
    "missing_zips = np.where(pd.isnull(property_data['ZIP']))[0]\n",
    "len(missing_zips)"
   ]
  },
  {
   "cell_type": "code",
   "execution_count": 6,
   "metadata": {
    "ExecuteTime": {
     "end_time": "2021-02-10T09:09:18.678327Z",
     "start_time": "2021-02-10T09:07:54.920819Z"
    }
   },
   "outputs": [],
   "source": [
    "for i in range(len(missing_zips)):\n",
    "    property_data.loc[missing_zips[i], 'ZIP'] = property_data.loc[missing_zips[i]-1, 'ZIP']"
   ]
  },
  {
   "cell_type": "code",
   "execution_count": 7,
   "metadata": {
    "ExecuteTime": {
     "end_time": "2021-02-10T09:09:18.693713Z",
     "start_time": "2021-02-10T09:09:18.679292Z"
    }
   },
   "outputs": [
    {
     "data": {
      "text/plain": [
       "0"
      ]
     },
     "execution_count": 7,
     "metadata": {},
     "output_type": "execute_result"
    }
   ],
   "source": [
    "missing_zips = np.where(pd.isnull(property_data['ZIP']))[0]\n",
    "len(missing_zips)"
   ]
  },
  {
   "cell_type": "markdown",
   "metadata": {},
   "source": [
    "### STORIES"
   ]
  },
  {
   "cell_type": "code",
   "execution_count": 8,
   "metadata": {
    "ExecuteTime": {
     "end_time": "2021-02-10T09:09:18.739550Z",
     "start_time": "2021-02-10T09:09:18.695715Z"
    }
   },
   "outputs": [
    {
     "data": {
      "text/plain": [
       "56264"
      ]
     },
     "execution_count": 8,
     "metadata": {},
     "output_type": "execute_result"
    }
   ],
   "source": [
    "missing_stories = property_data[property_data['STORIES'].isnull()]\n",
    "len(missing_stories)"
   ]
  },
  {
   "cell_type": "code",
   "execution_count": 9,
   "metadata": {
    "ExecuteTime": {
     "end_time": "2021-02-10T09:09:18.755062Z",
     "start_time": "2021-02-10T09:09:18.741541Z"
    }
   },
   "outputs": [
    {
     "data": {
      "text/plain": [
       "1B    24736\n",
       "4     22354\n",
       "3      4635\n",
       "2      3435\n",
       "1       897\n",
       "2C      138\n",
       "2B       34\n",
       "2A       30\n",
       "1A        5\n",
       "Name: TAXCLASS, dtype: int64"
      ]
     },
     "execution_count": 9,
     "metadata": {},
     "output_type": "execute_result"
    }
   ],
   "source": [
    "missing_stories['TAXCLASS'].value_counts()"
   ]
  },
  {
   "cell_type": "code",
   "execution_count": 10,
   "metadata": {
    "ExecuteTime": {
     "end_time": "2021-02-10T09:09:18.817819Z",
     "start_time": "2021-02-10T09:09:18.757032Z"
    },
    "scrolled": true
   },
   "outputs": [
    {
     "data": {
      "text/plain": [
       "TAXCLASS\n",
       "1      2.111641\n",
       "1A     1.656837\n",
       "1B     4.000000\n",
       "1C     3.052748\n",
       "1D     1.068966\n",
       "2     16.095110\n",
       "2A     2.844574\n",
       "2B     4.004494\n",
       "2C     4.745097\n",
       "3      1.333333\n",
       "4      5.446968\n",
       "Name: STORIES, dtype: float64"
      ]
     },
     "execution_count": 10,
     "metadata": {},
     "output_type": "execute_result"
    }
   ],
   "source": [
    "mean_stories = property_data.groupby('TAXCLASS')['STORIES'].mean()\n",
    "mean_stories"
   ]
  },
  {
   "cell_type": "code",
   "execution_count": 11,
   "metadata": {
    "ExecuteTime": {
     "end_time": "2021-02-10T09:09:18.848421Z",
     "start_time": "2021-02-10T09:09:18.819918Z"
    }
   },
   "outputs": [
    {
     "data": {
      "text/plain": [
       "0"
      ]
     },
     "execution_count": 11,
     "metadata": {},
     "output_type": "execute_result"
    }
   ],
   "source": [
    "len(property_data[property_data['STORIES']==0])"
   ]
  },
  {
   "cell_type": "code",
   "execution_count": 12,
   "metadata": {
    "ExecuteTime": {
     "end_time": "2021-02-10T09:09:18.863722Z",
     "start_time": "2021-02-10T09:09:18.850786Z"
    }
   },
   "outputs": [],
   "source": [
    "property_data['STORIES'] = property_data['STORIES'].fillna(value=0)"
   ]
  },
  {
   "cell_type": "code",
   "execution_count": 13,
   "metadata": {
    "ExecuteTime": {
     "end_time": "2021-02-10T09:09:19.437289Z",
     "start_time": "2021-02-10T09:09:18.864719Z"
    }
   },
   "outputs": [],
   "source": [
    "for index in mean_stories.index:\n",
    "    property_data.loc[(property_data['STORIES']==0) & (property_data[\"TAXCLASS\"]==index), 'STORIES'] = mean_stories[index]"
   ]
  },
  {
   "cell_type": "code",
   "execution_count": 14,
   "metadata": {
    "ExecuteTime": {
     "end_time": "2021-02-10T09:09:19.452863Z",
     "start_time": "2021-02-10T09:09:19.438328Z"
    }
   },
   "outputs": [
    {
     "data": {
      "text/plain": [
       "0"
      ]
     },
     "execution_count": 14,
     "metadata": {},
     "output_type": "execute_result"
    }
   ],
   "source": [
    "len(property_data[property_data['STORIES']==0])"
   ]
  },
  {
   "cell_type": "code",
   "execution_count": 15,
   "metadata": {
    "ExecuteTime": {
     "end_time": "2021-02-10T09:09:19.468310Z",
     "start_time": "2021-02-10T09:09:19.453613Z"
    }
   },
   "outputs": [
    {
     "data": {
      "text/plain": [
       "0"
      ]
     },
     "execution_count": 15,
     "metadata": {},
     "output_type": "execute_result"
    }
   ],
   "source": [
    "len(property_data[property_data['STORIES'].isnull()])"
   ]
  },
  {
   "cell_type": "markdown",
   "metadata": {},
   "source": [
    "### FULLVAL, AVLAND, AVTOT"
   ]
  },
  {
   "cell_type": "code",
   "execution_count": 16,
   "metadata": {
    "ExecuteTime": {
     "end_time": "2021-02-10T09:09:19.686473Z",
     "start_time": "2021-02-10T09:09:19.469270Z"
    }
   },
   "outputs": [
    {
     "data": {
      "text/plain": [
       "TAXCLASS\n",
       "1     5.698435e+05\n",
       "1A    3.352842e+05\n",
       "1B    5.613639e+05\n",
       "1C    7.615359e+05\n",
       "1D    2.233614e+07\n",
       "2     7.998018e+05\n",
       "2A    8.640037e+05\n",
       "2B    1.252989e+06\n",
       "2C    7.728799e+05\n",
       "3     1.112765e+05\n",
       "4     3.211928e+06\n",
       "Name: FULLVAL, dtype: float64"
      ]
     },
     "execution_count": 16,
     "metadata": {},
     "output_type": "execute_result"
    }
   ],
   "source": [
    "property_data['FULLVAL'].replace('NaN',0)\n",
    "temp_fullval = property_data[property_data['FULLVAL'] != 0]\n",
    "mean_fullval = temp_fullval.groupby('TAXCLASS')['FULLVAL'].mean()\n",
    "mean_fullval"
   ]
  },
  {
   "cell_type": "code",
   "execution_count": 17,
   "metadata": {
    "ExecuteTime": {
     "end_time": "2021-02-10T09:09:19.902624Z",
     "start_time": "2021-02-10T09:09:19.687514Z"
    }
   },
   "outputs": [
    {
     "data": {
      "text/plain": [
       "TAXCLASS\n",
       "1      14896.433976\n",
       "1A      2247.369138\n",
       "1B     14781.268478\n",
       "1C      8225.658898\n",
       "1D    709303.793103\n",
       "2      90830.095031\n",
       "2A     31363.390619\n",
       "2B     54446.810503\n",
       "2C     25639.066531\n",
       "3      43368.352941\n",
       "4     600949.433397\n",
       "Name: AVLAND, dtype: float64"
      ]
     },
     "execution_count": 17,
     "metadata": {},
     "output_type": "execute_result"
    }
   ],
   "source": [
    "property_data['AVLAND'].replace('NaN',0)\n",
    "temp_avland = property_data[property_data['AVLAND'] != 0]\n",
    "mean_avland = temp_avland.groupby('TAXCLASS')['AVLAND'].mean()\n",
    "mean_avland"
   ]
  },
  {
   "cell_type": "code",
   "execution_count": 18,
   "metadata": {
    "ExecuteTime": {
     "end_time": "2021-02-10T09:09:20.119374Z",
     "start_time": "2021-02-10T09:09:19.903512Z"
    }
   },
   "outputs": [
    {
     "data": {
      "text/plain": [
       "TAXCLASS\n",
       "1     2.501609e+04\n",
       "1A    1.436972e+04\n",
       "1B    1.478410e+04\n",
       "1C    2.898447e+04\n",
       "1D    1.166866e+06\n",
       "2     3.599121e+05\n",
       "2A    7.961158e+04\n",
       "2B    1.785982e+05\n",
       "2C    1.170444e+05\n",
       "3     5.007444e+04\n",
       "4     1.488705e+06\n",
       "Name: AVTOT, dtype: float64"
      ]
     },
     "execution_count": 18,
     "metadata": {},
     "output_type": "execute_result"
    }
   ],
   "source": [
    "property_data['AVTOT'].replace('NaN',0)\n",
    "temp_avtot = property_data[property_data['AVTOT'] != 0]\n",
    "mean_avtot = temp_avtot.groupby('TAXCLASS')['AVTOT'].mean()\n",
    "mean_avtot"
   ]
  },
  {
   "cell_type": "code",
   "execution_count": 19,
   "metadata": {
    "ExecuteTime": {
     "end_time": "2021-02-10T09:09:21.749843Z",
     "start_time": "2021-02-10T09:09:20.120301Z"
    }
   },
   "outputs": [],
   "source": [
    "for index in mean_fullval.index:\n",
    "    property_data.loc[(property_data['FULLVAL']==0) & (property_data['TAXCLASS']==index), 'FULLVAL'] = mean_fullval[index]\n",
    "    property_data.loc[(property_data['AVLAND']==0) & (property_data['TAXCLASS']==index), 'AVLAND'] = mean_avland[index]\n",
    "    property_data.loc[(property_data['AVTOT']==0) & (property_data['TAXCLASS']==index), 'AVTOT'] = mean_avtot[index]"
   ]
  },
  {
   "cell_type": "markdown",
   "metadata": {},
   "source": [
    "### 'LTFRONT', 'LTDEPTH', 'BLDFRONT', 'BLDDEPTH'"
   ]
  },
  {
   "cell_type": "code",
   "execution_count": 20,
   "metadata": {
    "ExecuteTime": {
     "end_time": "2021-02-10T09:09:22.047548Z",
     "start_time": "2021-02-10T09:09:21.751122Z"
    }
   },
   "outputs": [],
   "source": [
    "# as these 4 values do not have NAs, we just need to replace 0s. \n",
    "# calculate groupwise average. 1st replace 0 by NAs so they are not counted in calculating mean.\n",
    "property_data.loc[property_data['LTFRONT']==0,'LTFRONT']=np.nan\n",
    "property_data.loc[property_data['LTDEPTH']==0,'LTDEPTH']=np.nan\n",
    "property_data.loc[property_data['BLDFRONT']==0,'BLDFRONT']=np.nan\n",
    "property_data.loc[property_data['BLDDEPTH']==0,'BLDDEPTH']=np.nan\n",
    "property_data.loc[property_data['LTFRONT']==1,'LTFRONT']=np.nan\n",
    "property_data.loc[property_data['LTDEPTH']==1,'LTDEPTH']=np.nan\n",
    "property_data.loc[property_data['BLDFRONT']==1,'BLDFRONT']=np.nan\n",
    "property_data.loc[property_data['BLDDEPTH']==1,'BLDDEPTH']=np.nan"
   ]
  },
  {
   "cell_type": "code",
   "execution_count": 21,
   "metadata": {
    "ExecuteTime": {
     "end_time": "2021-02-10T09:09:22.234990Z",
     "start_time": "2021-02-10T09:09:22.050330Z"
    }
   },
   "outputs": [
    {
     "data": {
      "text/plain": [
       "TAXCLASS\n",
       "1      41.556940\n",
       "1A     44.949251\n",
       "1B     82.666667\n",
       "1C     60.094862\n",
       "1D     36.862069\n",
       "2     108.005699\n",
       "2A     62.430662\n",
       "2B     66.587020\n",
       "2C     68.660429\n",
       "3      33.750000\n",
       "4      87.820730\n",
       "Name: BLDDEPTH, dtype: float64"
      ]
     },
     "execution_count": 21,
     "metadata": {},
     "output_type": "execute_result"
    }
   ],
   "source": [
    "# calculate mean now (mean function ignores NAs but not 0s hence we converted 0 to NA)\n",
    "mean_LTFRONT=property_data.groupby(property_data['TAXCLASS'])['LTFRONT'].mean()\n",
    "mean_LTDEPTH=property_data.groupby(property_data['TAXCLASS'])['LTDEPTH'].mean()\n",
    "mean_BLDFRONT=property_data.groupby(property_data['TAXCLASS'])['BLDFRONT'].mean()\n",
    "mean_BLDDEPTH=property_data.groupby(property_data['TAXCLASS'])['BLDDEPTH'].mean()\n",
    "mean_BLDDEPTH"
   ]
  },
  {
   "cell_type": "code",
   "execution_count": 22,
   "metadata": {
    "ExecuteTime": {
     "end_time": "2021-02-10T09:09:24.502724Z",
     "start_time": "2021-02-10T09:09:22.236944Z"
    }
   },
   "outputs": [],
   "source": [
    "# impute values\n",
    "for index in mean_LTFRONT.index:\n",
    "    property_data.loc[(property_data['LTFRONT'].isnull())&(property_data['TAXCLASS']==index),'LTFRONT']=mean_LTFRONT[index]    \n",
    "    property_data.loc[(property_data['LTDEPTH'].isnull())&(property_data['TAXCLASS']==index),'LTDEPTH']=mean_LTDEPTH[index]\n",
    "    property_data.loc[(property_data['BLDFRONT'].isnull())&(property_data['TAXCLASS']==index),'BLDFRONT']=mean_BLDFRONT[index]\n",
    "    property_data.loc[(property_data['BLDDEPTH'].isnull())&(property_data['TAXCLASS']==index),'BLDDEPTH']=mean_BLDDEPTH[index]\n"
   ]
  },
  {
   "cell_type": "markdown",
   "metadata": {},
   "source": [
    "# Build variables"
   ]
  },
  {
   "cell_type": "code",
   "execution_count": 23,
   "metadata": {
    "ExecuteTime": {
     "end_time": "2021-02-10T09:09:24.641600Z",
     "start_time": "2021-02-10T09:09:24.503572Z"
    }
   },
   "outputs": [
    {
     "name": "stdout",
     "output_type": "stream",
     "text": [
      "<class 'pandas.core.frame.DataFrame'>\n",
      "RangeIndex: 1070994 entries, 0 to 1070993\n",
      "Data columns (total 12 columns):\n",
      " #   Column    Non-Null Count    Dtype  \n",
      "---  ------    --------------    -----  \n",
      " 0   ZIP       1070994 non-null  float64\n",
      " 1   STORIES   1070994 non-null  float64\n",
      " 2   FULLVAL   1070994 non-null  float64\n",
      " 3   AVLAND    1070994 non-null  float64\n",
      " 4   AVTOT     1070994 non-null  float64\n",
      " 5   LTFRONT   1070994 non-null  float64\n",
      " 6   LTDEPTH   1070994 non-null  float64\n",
      " 7   BLDFRONT  1070994 non-null  float64\n",
      " 8   BLDDEPTH  1070994 non-null  float64\n",
      " 9   TAXCLASS  1070994 non-null  object \n",
      " 10  B         1070994 non-null  int64  \n",
      " 11  RECORD    1070994 non-null  int64  \n",
      "dtypes: float64(9), int64(2), object(1)\n",
      "memory usage: 98.1+ MB\n"
     ]
    }
   ],
   "source": [
    "data = property_data[['ZIP', 'STORIES', 'FULLVAL',\n",
    "                      'AVLAND', 'AVTOT', 'LTFRONT',\n",
    "                      'LTDEPTH', 'BLDFRONT', 'BLDDEPTH', \n",
    "                      'TAXCLASS', 'B', 'RECORD']].copy()\n",
    "data.info()"
   ]
  },
  {
   "cell_type": "code",
   "execution_count": 24,
   "metadata": {
    "ExecuteTime": {
     "end_time": "2021-02-10T09:09:25.280854Z",
     "start_time": "2021-02-10T09:09:24.643563Z"
    }
   },
   "outputs": [],
   "source": [
    "data['ZIP'] = data['ZIP'].astype(str)\n",
    "data['zip3'] = data['ZIP'].str[:3]"
   ]
  },
  {
   "cell_type": "code",
   "execution_count": 25,
   "metadata": {
    "ExecuteTime": {
     "end_time": "2021-02-10T09:09:25.312606Z",
     "start_time": "2021-02-10T09:09:25.281855Z"
    }
   },
   "outputs": [],
   "source": [
    "data['ltsize'] = data['LTFRONT'] * data['LTDEPTH']\n",
    "data['bldsize'] = data['BLDFRONT'] * data['BLDDEPTH']\n",
    "data['bldvol'] = data['bldsize'] * data['STORIES']"
   ]
  },
  {
   "cell_type": "code",
   "execution_count": 26,
   "metadata": {
    "ExecuteTime": {
     "end_time": "2021-02-10T09:09:25.561677Z",
     "start_time": "2021-02-10T09:09:25.313714Z"
    }
   },
   "outputs": [
    {
     "name": "stdout",
     "output_type": "stream",
     "text": [
      "<class 'pandas.core.frame.DataFrame'>\n",
      "RangeIndex: 1070994 entries, 0 to 1070993\n",
      "Data columns (total 16 columns):\n",
      " #   Column    Non-Null Count    Dtype  \n",
      "---  ------    --------------    -----  \n",
      " 0   ZIP       1070994 non-null  object \n",
      " 1   STORIES   1070994 non-null  float64\n",
      " 2   FULLVAL   1070994 non-null  float64\n",
      " 3   AVLAND    1070994 non-null  float64\n",
      " 4   AVTOT     1070994 non-null  float64\n",
      " 5   LTFRONT   1070994 non-null  float64\n",
      " 6   LTDEPTH   1070994 non-null  float64\n",
      " 7   BLDFRONT  1070994 non-null  float64\n",
      " 8   BLDDEPTH  1070994 non-null  float64\n",
      " 9   TAXCLASS  1070994 non-null  object \n",
      " 10  B         1070994 non-null  int64  \n",
      " 11  RECORD    1070994 non-null  int64  \n",
      " 12  zip3      1070994 non-null  object \n",
      " 13  ltsize    1070994 non-null  float64\n",
      " 14  bldsize   1070994 non-null  float64\n",
      " 15  bldvol    1070994 non-null  float64\n",
      "dtypes: float64(11), int64(2), object(3)\n",
      "memory usage: 130.7+ MB\n"
     ]
    }
   ],
   "source": [
    "data.info()"
   ]
  },
  {
   "cell_type": "code",
   "execution_count": 27,
   "metadata": {
    "ExecuteTime": {
     "end_time": "2021-02-10T09:09:25.638674Z",
     "start_time": "2021-02-10T09:09:25.562947Z"
    }
   },
   "outputs": [],
   "source": [
    "data['r1'] = data['FULLVAL'] / data['ltsize']\n",
    "data['r2'] = data['FULLVAL'] / data['bldsize']\n",
    "data['r3'] = data['FULLVAL'] / data['bldvol']\n",
    "data['r4'] = data['AVLAND'] / data['ltsize']\n",
    "data['r5'] = data['AVLAND'] / data['bldsize']\n",
    "data['r6'] = data['AVLAND'] / data['bldvol']\n",
    "data['r7'] = data['AVTOT'] / data['ltsize']\n",
    "data['r8'] = data['AVTOT'] / data['bldsize']\n",
    "data['r9'] = data['AVTOT'] / data['bldvol']"
   ]
  },
  {
   "cell_type": "code",
   "execution_count": 28,
   "metadata": {
    "ExecuteTime": {
     "end_time": "2021-02-10T09:09:25.885034Z",
     "start_time": "2021-02-10T09:09:25.640665Z"
    }
   },
   "outputs": [
    {
     "name": "stdout",
     "output_type": "stream",
     "text": [
      "<class 'pandas.core.frame.DataFrame'>\n",
      "RangeIndex: 1070994 entries, 0 to 1070993\n",
      "Data columns (total 25 columns):\n",
      " #   Column    Non-Null Count    Dtype  \n",
      "---  ------    --------------    -----  \n",
      " 0   ZIP       1070994 non-null  object \n",
      " 1   STORIES   1070994 non-null  float64\n",
      " 2   FULLVAL   1070994 non-null  float64\n",
      " 3   AVLAND    1070994 non-null  float64\n",
      " 4   AVTOT     1070994 non-null  float64\n",
      " 5   LTFRONT   1070994 non-null  float64\n",
      " 6   LTDEPTH   1070994 non-null  float64\n",
      " 7   BLDFRONT  1070994 non-null  float64\n",
      " 8   BLDDEPTH  1070994 non-null  float64\n",
      " 9   TAXCLASS  1070994 non-null  object \n",
      " 10  B         1070994 non-null  int64  \n",
      " 11  RECORD    1070994 non-null  int64  \n",
      " 12  zip3      1070994 non-null  object \n",
      " 13  ltsize    1070994 non-null  float64\n",
      " 14  bldsize   1070994 non-null  float64\n",
      " 15  bldvol    1070994 non-null  float64\n",
      " 16  r1        1070994 non-null  float64\n",
      " 17  r2        1070994 non-null  float64\n",
      " 18  r3        1070994 non-null  float64\n",
      " 19  r4        1070994 non-null  float64\n",
      " 20  r5        1070994 non-null  float64\n",
      " 21  r6        1070994 non-null  float64\n",
      " 22  r7        1070994 non-null  float64\n",
      " 23  r8        1070994 non-null  float64\n",
      " 24  r9        1070994 non-null  float64\n",
      "dtypes: float64(20), int64(2), object(3)\n",
      "memory usage: 204.3+ MB\n"
     ]
    }
   ],
   "source": [
    "data.info()"
   ]
  },
  {
   "cell_type": "code",
   "execution_count": 29,
   "metadata": {
    "ExecuteTime": {
     "end_time": "2021-02-10T09:09:27.190202Z",
     "start_time": "2021-02-10T09:09:25.886033Z"
    }
   },
   "outputs": [],
   "source": [
    "nine_vars = ['r1', 'r2', 'r3', 'r4', 'r5', 'r6', 'r7', 'r8', 'r9']\n",
    "\n",
    "zip5_mean = data.groupby('ZIP')[nine_vars].mean()\n",
    "zip3_mean = data.groupby('zip3')[nine_vars].mean()\n",
    "taxclass_mean = data.groupby('TAXCLASS')[nine_vars].mean()\n",
    "borough_mean = data.groupby('B')[nine_vars].mean()\n",
    "\n",
    "data = data.join(zip5_mean, on='ZIP', rsuffix = '_zip5')\n",
    "data = data.join(zip3_mean, on='zip3', rsuffix = '_zip3')\n",
    "data = data.join(taxclass_mean, on='TAXCLASS', rsuffix = '_taxclass')\n",
    "data = data.join(borough_mean, on='B', rsuffix = '_boro')\n",
    "\n",
    "rsuffix = ['_zip5', '_zip3', '_taxclass', '_boro']\n",
    "\n",
    "for var in nine_vars:\n",
    "    for r in rsuffix:\n",
    "        data[str(var)+r] = data[var] / data[str(var)+r]"
   ]
  },
  {
   "cell_type": "code",
   "execution_count": 30,
   "metadata": {
    "ExecuteTime": {
     "end_time": "2021-02-10T09:09:27.812699Z",
     "start_time": "2021-02-10T09:09:27.191201Z"
    },
    "scrolled": true
   },
   "outputs": [
    {
     "name": "stdout",
     "output_type": "stream",
     "text": [
      "<class 'pandas.core.frame.DataFrame'>\n",
      "RangeIndex: 1070994 entries, 0 to 1070993\n",
      "Data columns (total 46 columns):\n",
      " #   Column       Non-Null Count    Dtype  \n",
      "---  ------       --------------    -----  \n",
      " 0   RECORD       1070994 non-null  int64  \n",
      " 1   r1           1070994 non-null  float64\n",
      " 2   r2           1070994 non-null  float64\n",
      " 3   r3           1070994 non-null  float64\n",
      " 4   r4           1070994 non-null  float64\n",
      " 5   r5           1070994 non-null  float64\n",
      " 6   r6           1070994 non-null  float64\n",
      " 7   r7           1070994 non-null  float64\n",
      " 8   r8           1070994 non-null  float64\n",
      " 9   r9           1070994 non-null  float64\n",
      " 10  r1_zip5      1070994 non-null  float64\n",
      " 11  r2_zip5      1070994 non-null  float64\n",
      " 12  r3_zip5      1070994 non-null  float64\n",
      " 13  r4_zip5      1070994 non-null  float64\n",
      " 14  r5_zip5      1070994 non-null  float64\n",
      " 15  r6_zip5      1070994 non-null  float64\n",
      " 16  r7_zip5      1070994 non-null  float64\n",
      " 17  r8_zip5      1070994 non-null  float64\n",
      " 18  r9_zip5      1070994 non-null  float64\n",
      " 19  r1_zip3      1070994 non-null  float64\n",
      " 20  r2_zip3      1070994 non-null  float64\n",
      " 21  r3_zip3      1070994 non-null  float64\n",
      " 22  r4_zip3      1070994 non-null  float64\n",
      " 23  r5_zip3      1070994 non-null  float64\n",
      " 24  r6_zip3      1070994 non-null  float64\n",
      " 25  r7_zip3      1070994 non-null  float64\n",
      " 26  r8_zip3      1070994 non-null  float64\n",
      " 27  r9_zip3      1070994 non-null  float64\n",
      " 28  r1_taxclass  1070994 non-null  float64\n",
      " 29  r2_taxclass  1070994 non-null  float64\n",
      " 30  r3_taxclass  1070994 non-null  float64\n",
      " 31  r4_taxclass  1070994 non-null  float64\n",
      " 32  r5_taxclass  1070994 non-null  float64\n",
      " 33  r6_taxclass  1070994 non-null  float64\n",
      " 34  r7_taxclass  1070994 non-null  float64\n",
      " 35  r8_taxclass  1070994 non-null  float64\n",
      " 36  r9_taxclass  1070994 non-null  float64\n",
      " 37  r1_boro      1070994 non-null  float64\n",
      " 38  r2_boro      1070994 non-null  float64\n",
      " 39  r3_boro      1070994 non-null  float64\n",
      " 40  r4_boro      1070994 non-null  float64\n",
      " 41  r5_boro      1070994 non-null  float64\n",
      " 42  r6_boro      1070994 non-null  float64\n",
      " 43  r7_boro      1070994 non-null  float64\n",
      " 44  r8_boro      1070994 non-null  float64\n",
      " 45  r9_boro      1070994 non-null  float64\n",
      "dtypes: float64(45), int64(1)\n",
      "memory usage: 375.9 MB\n"
     ]
    }
   ],
   "source": [
    "data.drop(columns = ['ZIP', 'STORIES', 'FULLVAL',\n",
    "                     'AVLAND', 'AVTOT', 'LTFRONT',\n",
    "                     'LTDEPTH', 'BLDFRONT', 'BLDDEPTH',\n",
    "                     'TAXCLASS', 'B', \n",
    "                     'zip3', 'ltsize', 'bldsize', 'bldvol'],\n",
    "          inplace=True)\n",
    "data.info()"
   ]
  },
  {
   "cell_type": "markdown",
   "metadata": {},
   "source": [
    "# Z scale and PCA"
   ]
  },
  {
   "cell_type": "code",
   "execution_count": 31,
   "metadata": {
    "ExecuteTime": {
     "end_time": "2021-02-10T09:09:27.891579Z",
     "start_time": "2021-02-10T09:09:27.814053Z"
    }
   },
   "outputs": [],
   "source": [
    "data_orig = data.copy()"
   ]
  },
  {
   "cell_type": "code",
   "execution_count": 32,
   "metadata": {
    "ExecuteTime": {
     "end_time": "2021-02-10T09:09:29.374184Z",
     "start_time": "2021-02-10T09:09:27.892683Z"
    }
   },
   "outputs": [
    {
     "data": {
      "text/html": [
       "<div>\n",
       "<style scoped>\n",
       "    .dataframe tbody tr th:only-of-type {\n",
       "        vertical-align: middle;\n",
       "    }\n",
       "\n",
       "    .dataframe tbody tr th {\n",
       "        vertical-align: top;\n",
       "    }\n",
       "\n",
       "    .dataframe thead th {\n",
       "        text-align: right;\n",
       "    }\n",
       "</style>\n",
       "<table border=\"1\" class=\"dataframe\">\n",
       "  <thead>\n",
       "    <tr style=\"text-align: right;\">\n",
       "      <th></th>\n",
       "      <th>r1</th>\n",
       "      <th>r2</th>\n",
       "      <th>r3</th>\n",
       "      <th>r4</th>\n",
       "      <th>r5</th>\n",
       "      <th>r6</th>\n",
       "      <th>r7</th>\n",
       "      <th>r8</th>\n",
       "      <th>r9</th>\n",
       "      <th>r1_zip5</th>\n",
       "      <th>...</th>\n",
       "      <th>r9_taxclass</th>\n",
       "      <th>r1_boro</th>\n",
       "      <th>r2_boro</th>\n",
       "      <th>r3_boro</th>\n",
       "      <th>r4_boro</th>\n",
       "      <th>r5_boro</th>\n",
       "      <th>r6_boro</th>\n",
       "      <th>r7_boro</th>\n",
       "      <th>r8_boro</th>\n",
       "      <th>r9_boro</th>\n",
       "    </tr>\n",
       "  </thead>\n",
       "  <tbody>\n",
       "    <tr>\n",
       "      <th>count</th>\n",
       "      <td>1.070994e+06</td>\n",
       "      <td>1.070994e+06</td>\n",
       "      <td>1.070994e+06</td>\n",
       "      <td>1.070994e+06</td>\n",
       "      <td>1.070994e+06</td>\n",
       "      <td>1.070994e+06</td>\n",
       "      <td>1.070994e+06</td>\n",
       "      <td>1.070994e+06</td>\n",
       "      <td>1.070994e+06</td>\n",
       "      <td>1.070994e+06</td>\n",
       "      <td>...</td>\n",
       "      <td>1.070994e+06</td>\n",
       "      <td>1.070994e+06</td>\n",
       "      <td>1.070994e+06</td>\n",
       "      <td>1.070994e+06</td>\n",
       "      <td>1.070994e+06</td>\n",
       "      <td>1.070994e+06</td>\n",
       "      <td>1.070994e+06</td>\n",
       "      <td>1.070994e+06</td>\n",
       "      <td>1.070994e+06</td>\n",
       "      <td>1.070994e+06</td>\n",
       "    </tr>\n",
       "    <tr>\n",
       "      <th>mean</th>\n",
       "      <td>1.192887e-14</td>\n",
       "      <td>-1.956271e-14</td>\n",
       "      <td>-1.777944e-15</td>\n",
       "      <td>-9.639809e-15</td>\n",
       "      <td>-1.225623e-15</td>\n",
       "      <td>6.077808e-15</td>\n",
       "      <td>-2.149181e-14</td>\n",
       "      <td>2.557510e-16</td>\n",
       "      <td>2.467938e-15</td>\n",
       "      <td>3.529330e-14</td>\n",
       "      <td>...</td>\n",
       "      <td>2.651688e-14</td>\n",
       "      <td>1.416381e-14</td>\n",
       "      <td>-2.315764e-14</td>\n",
       "      <td>2.107545e-15</td>\n",
       "      <td>-2.663685e-16</td>\n",
       "      <td>3.334107e-15</td>\n",
       "      <td>2.559602e-15</td>\n",
       "      <td>-2.050327e-14</td>\n",
       "      <td>-1.902262e-15</td>\n",
       "      <td>-1.139079e-15</td>\n",
       "    </tr>\n",
       "    <tr>\n",
       "      <th>std</th>\n",
       "      <td>1.000000e+00</td>\n",
       "      <td>1.000000e+00</td>\n",
       "      <td>1.000000e+00</td>\n",
       "      <td>1.000000e+00</td>\n",
       "      <td>1.000000e+00</td>\n",
       "      <td>1.000000e+00</td>\n",
       "      <td>1.000000e+00</td>\n",
       "      <td>1.000000e+00</td>\n",
       "      <td>1.000000e+00</td>\n",
       "      <td>1.000000e+00</td>\n",
       "      <td>...</td>\n",
       "      <td>1.000000e+00</td>\n",
       "      <td>1.000000e+00</td>\n",
       "      <td>1.000000e+00</td>\n",
       "      <td>1.000000e+00</td>\n",
       "      <td>1.000000e+00</td>\n",
       "      <td>1.000000e+00</td>\n",
       "      <td>1.000000e+00</td>\n",
       "      <td>1.000000e+00</td>\n",
       "      <td>1.000000e+00</td>\n",
       "      <td>1.000000e+00</td>\n",
       "    </tr>\n",
       "    <tr>\n",
       "      <th>min</th>\n",
       "      <td>-3.170794e-01</td>\n",
       "      <td>-2.330264e-01</td>\n",
       "      <td>-1.670424e-01</td>\n",
       "      <td>-6.172831e-02</td>\n",
       "      <td>-2.927850e-02</td>\n",
       "      <td>-2.170250e-02</td>\n",
       "      <td>-1.012244e-01</td>\n",
       "      <td>-4.391781e-02</td>\n",
       "      <td>-3.271184e-02</td>\n",
       "      <td>-3.514611e-01</td>\n",
       "      <td>...</td>\n",
       "      <td>-1.335327e-01</td>\n",
       "      <td>-3.292877e-01</td>\n",
       "      <td>-2.334633e-01</td>\n",
       "      <td>-1.038394e-01</td>\n",
       "      <td>-4.659210e-02</td>\n",
       "      <td>-3.246591e-02</td>\n",
       "      <td>-2.771338e-02</td>\n",
       "      <td>-8.661033e-02</td>\n",
       "      <td>-4.259928e-02</td>\n",
       "      <td>-3.929067e-02</td>\n",
       "    </tr>\n",
       "    <tr>\n",
       "      <th>25%</th>\n",
       "      <td>-2.107938e-01</td>\n",
       "      <td>-1.597743e-01</td>\n",
       "      <td>-1.209028e-01</td>\n",
       "      <td>-4.925107e-02</td>\n",
       "      <td>-2.355366e-02</td>\n",
       "      <td>-1.900615e-02</td>\n",
       "      <td>-8.214703e-02</td>\n",
       "      <td>-3.091588e-02</td>\n",
       "      <td>-2.339241e-02</td>\n",
       "      <td>-2.029755e-01</td>\n",
       "      <td>...</td>\n",
       "      <td>-8.399919e-02</td>\n",
       "      <td>-2.007440e-01</td>\n",
       "      <td>-1.567837e-01</td>\n",
       "      <td>-7.387945e-02</td>\n",
       "      <td>-3.626873e-02</td>\n",
       "      <td>-2.546635e-02</td>\n",
       "      <td>-2.403808e-02</td>\n",
       "      <td>-6.636767e-02</td>\n",
       "      <td>-2.781447e-02</td>\n",
       "      <td>-2.708941e-02</td>\n",
       "    </tr>\n",
       "    <tr>\n",
       "      <th>50%</th>\n",
       "      <td>-9.171668e-02</td>\n",
       "      <td>-2.112265e-02</td>\n",
       "      <td>-9.515198e-03</td>\n",
       "      <td>-3.624134e-02</td>\n",
       "      <td>-1.408563e-02</td>\n",
       "      <td>-1.070379e-02</td>\n",
       "      <td>-6.965849e-02</td>\n",
       "      <td>-2.306247e-02</td>\n",
       "      <td>-1.485576e-02</td>\n",
       "      <td>-3.364188e-02</td>\n",
       "      <td>...</td>\n",
       "      <td>-2.424407e-02</td>\n",
       "      <td>-5.649824e-02</td>\n",
       "      <td>-1.668091e-02</td>\n",
       "      <td>-1.121917e-02</td>\n",
       "      <td>-1.771892e-02</td>\n",
       "      <td>-1.221901e-02</td>\n",
       "      <td>-1.282995e-02</td>\n",
       "      <td>-4.368292e-02</td>\n",
       "      <td>-1.636408e-02</td>\n",
       "      <td>-1.654421e-02</td>\n",
       "    </tr>\n",
       "    <tr>\n",
       "      <th>75%</th>\n",
       "      <td>4.407763e-02</td>\n",
       "      <td>5.920410e-02</td>\n",
       "      <td>5.631929e-02</td>\n",
       "      <td>-2.132744e-02</td>\n",
       "      <td>-8.557022e-03</td>\n",
       "      <td>-6.122879e-03</td>\n",
       "      <td>-5.103303e-02</td>\n",
       "      <td>-1.590614e-02</td>\n",
       "      <td>-7.793980e-03</td>\n",
       "      <td>7.882297e-02</td>\n",
       "      <td>...</td>\n",
       "      <td>1.669894e-02</td>\n",
       "      <td>7.921351e-02</td>\n",
       "      <td>6.022658e-02</td>\n",
       "      <td>2.622304e-02</td>\n",
       "      <td>-3.647703e-04</td>\n",
       "      <td>-4.708114e-03</td>\n",
       "      <td>-6.187080e-03</td>\n",
       "      <td>-1.811434e-02</td>\n",
       "      <td>-7.297386e-03</td>\n",
       "      <td>-7.309352e-03</td>\n",
       "    </tr>\n",
       "    <tr>\n",
       "      <th>max</th>\n",
       "      <td>5.127652e+02</td>\n",
       "      <td>4.710073e+02</td>\n",
       "      <td>7.355728e+02</td>\n",
       "      <td>8.618165e+02</td>\n",
       "      <td>5.018369e+02</td>\n",
       "      <td>7.631587e+02</td>\n",
       "      <td>5.730332e+02</td>\n",
       "      <td>6.415456e+02</td>\n",
       "      <td>7.002223e+02</td>\n",
       "      <td>5.086535e+02</td>\n",
       "      <td>...</td>\n",
       "      <td>5.896402e+02</td>\n",
       "      <td>4.618636e+02</td>\n",
       "      <td>4.675608e+02</td>\n",
       "      <td>8.334646e+02</td>\n",
       "      <td>9.388877e+02</td>\n",
       "      <td>5.531192e+02</td>\n",
       "      <td>6.241236e+02</td>\n",
       "      <td>7.261511e+02</td>\n",
       "      <td>7.526293e+02</td>\n",
       "      <td>5.814213e+02</td>\n",
       "    </tr>\n",
       "  </tbody>\n",
       "</table>\n",
       "<p>8 rows × 45 columns</p>\n",
       "</div>"
      ],
      "text/plain": [
       "                 r1            r2            r3            r4            r5  \\\n",
       "count  1.070994e+06  1.070994e+06  1.070994e+06  1.070994e+06  1.070994e+06   \n",
       "mean   1.192887e-14 -1.956271e-14 -1.777944e-15 -9.639809e-15 -1.225623e-15   \n",
       "std    1.000000e+00  1.000000e+00  1.000000e+00  1.000000e+00  1.000000e+00   \n",
       "min   -3.170794e-01 -2.330264e-01 -1.670424e-01 -6.172831e-02 -2.927850e-02   \n",
       "25%   -2.107938e-01 -1.597743e-01 -1.209028e-01 -4.925107e-02 -2.355366e-02   \n",
       "50%   -9.171668e-02 -2.112265e-02 -9.515198e-03 -3.624134e-02 -1.408563e-02   \n",
       "75%    4.407763e-02  5.920410e-02  5.631929e-02 -2.132744e-02 -8.557022e-03   \n",
       "max    5.127652e+02  4.710073e+02  7.355728e+02  8.618165e+02  5.018369e+02   \n",
       "\n",
       "                 r6            r7            r8            r9       r1_zip5  \\\n",
       "count  1.070994e+06  1.070994e+06  1.070994e+06  1.070994e+06  1.070994e+06   \n",
       "mean   6.077808e-15 -2.149181e-14  2.557510e-16  2.467938e-15  3.529330e-14   \n",
       "std    1.000000e+00  1.000000e+00  1.000000e+00  1.000000e+00  1.000000e+00   \n",
       "min   -2.170250e-02 -1.012244e-01 -4.391781e-02 -3.271184e-02 -3.514611e-01   \n",
       "25%   -1.900615e-02 -8.214703e-02 -3.091588e-02 -2.339241e-02 -2.029755e-01   \n",
       "50%   -1.070379e-02 -6.965849e-02 -2.306247e-02 -1.485576e-02 -3.364188e-02   \n",
       "75%   -6.122879e-03 -5.103303e-02 -1.590614e-02 -7.793980e-03  7.882297e-02   \n",
       "max    7.631587e+02  5.730332e+02  6.415456e+02  7.002223e+02  5.086535e+02   \n",
       "\n",
       "       ...   r9_taxclass       r1_boro       r2_boro       r3_boro  \\\n",
       "count  ...  1.070994e+06  1.070994e+06  1.070994e+06  1.070994e+06   \n",
       "mean   ...  2.651688e-14  1.416381e-14 -2.315764e-14  2.107545e-15   \n",
       "std    ...  1.000000e+00  1.000000e+00  1.000000e+00  1.000000e+00   \n",
       "min    ... -1.335327e-01 -3.292877e-01 -2.334633e-01 -1.038394e-01   \n",
       "25%    ... -8.399919e-02 -2.007440e-01 -1.567837e-01 -7.387945e-02   \n",
       "50%    ... -2.424407e-02 -5.649824e-02 -1.668091e-02 -1.121917e-02   \n",
       "75%    ...  1.669894e-02  7.921351e-02  6.022658e-02  2.622304e-02   \n",
       "max    ...  5.896402e+02  4.618636e+02  4.675608e+02  8.334646e+02   \n",
       "\n",
       "            r4_boro       r5_boro       r6_boro       r7_boro       r8_boro  \\\n",
       "count  1.070994e+06  1.070994e+06  1.070994e+06  1.070994e+06  1.070994e+06   \n",
       "mean  -2.663685e-16  3.334107e-15  2.559602e-15 -2.050327e-14 -1.902262e-15   \n",
       "std    1.000000e+00  1.000000e+00  1.000000e+00  1.000000e+00  1.000000e+00   \n",
       "min   -4.659210e-02 -3.246591e-02 -2.771338e-02 -8.661033e-02 -4.259928e-02   \n",
       "25%   -3.626873e-02 -2.546635e-02 -2.403808e-02 -6.636767e-02 -2.781447e-02   \n",
       "50%   -1.771892e-02 -1.221901e-02 -1.282995e-02 -4.368292e-02 -1.636408e-02   \n",
       "75%   -3.647703e-04 -4.708114e-03 -6.187080e-03 -1.811434e-02 -7.297386e-03   \n",
       "max    9.388877e+02  5.531192e+02  6.241236e+02  7.261511e+02  7.526293e+02   \n",
       "\n",
       "            r9_boro  \n",
       "count  1.070994e+06  \n",
       "mean  -1.139079e-15  \n",
       "std    1.000000e+00  \n",
       "min   -3.929067e-02  \n",
       "25%   -2.708941e-02  \n",
       "50%   -1.654421e-02  \n",
       "75%   -7.309352e-03  \n",
       "max    5.814213e+02  \n",
       "\n",
       "[8 rows x 45 columns]"
      ]
     },
     "execution_count": 32,
     "metadata": {},
     "output_type": "execute_result"
    }
   ],
   "source": [
    "data.drop(columns='RECORD', inplace=True)\n",
    "data = (data - data.mean()) / data.std()\n",
    "data.describe()"
   ]
  },
  {
   "cell_type": "code",
   "execution_count": 33,
   "metadata": {
    "ExecuteTime": {
     "end_time": "2021-02-10T09:09:30.972493Z",
     "start_time": "2021-02-10T09:09:29.375139Z"
    }
   },
   "outputs": [
    {
     "data": {
      "text/plain": [
       "(0.0, 1.0)"
      ]
     },
     "execution_count": 33,
     "metadata": {},
     "output_type": "execute_result"
    },
    {
     "data": {
      "image/png": "[encoded data removed]",
      "text/plain": [
       "<Figure size 432x288 with 1 Axes>"
      ]
     },
     "metadata": {
      "needs_background": "light"
     },
     "output_type": "display_data"
    }
   ],
   "source": [
    "pca = PCA(n_components = .99, svd_solver = 'full')\n",
    "pca.fit(data)\n",
    "plt.plot(np.cumsum(pca.explained_variance_ratio_))\n",
    "plt.xlabel('Number of components')\n",
    "plt.ylabel('Cumulative explained variance')\n",
    "plt.yticks(np.arange(0.05, 1.1, step=.1))\n",
    "plt.xticks(np.arange(0, 20, step=2))\n",
    "plt.axvline(x=6, linestyle='--')\n",
    "plt.ylim(0,1)\n"
   ]
  },
  {
   "cell_type": "code",
   "execution_count": 274,
   "metadata": {
    "ExecuteTime": {
     "end_time": "2021-02-10T09:09:33.666916Z",
     "start_time": "2021-02-10T09:09:30.973954Z"
    }
   },
   "outputs": [
    {
     "data": {
      "text/plain": [
       "(1070994, 7)"
      ]
     },
     "execution_count": 274,
     "metadata": {},
     "output_type": "execute_result"
    }
   ],
   "source": [
    "pca = PCA(n_components = 7)\n",
    "princ_comps = pca.fit_transform(data)\n",
    "data_pca = pd.DataFrame(princ_comps, columns = ['PC' + str(i) for i in range(1, pca.n_components_+1)])\n",
    "data_pca.shape\n"
   ]
  },
  {
   "cell_type": "code",
   "execution_count": 275,
   "metadata": {
    "ExecuteTime": {
     "end_time": "2021-02-10T09:09:34.116217Z",
     "start_time": "2021-02-10T09:09:33.667914Z"
    }
   },
   "outputs": [
    {
     "data": {
      "text/html": [
       "<div>\n",
       "<style scoped>\n",
       "    .dataframe tbody tr th:only-of-type {\n",
       "        vertical-align: middle;\n",
       "    }\n",
       "\n",
       "    .dataframe tbody tr th {\n",
       "        vertical-align: top;\n",
       "    }\n",
       "\n",
       "    .dataframe thead th {\n",
       "        text-align: right;\n",
       "    }\n",
       "</style>\n",
       "<table border=\"1\" class=\"dataframe\">\n",
       "  <thead>\n",
       "    <tr style=\"text-align: right;\">\n",
       "      <th></th>\n",
       "      <th>PC1</th>\n",
       "      <th>PC2</th>\n",
       "      <th>PC3</th>\n",
       "      <th>PC4</th>\n",
       "      <th>PC5</th>\n",
       "      <th>PC6</th>\n",
       "      <th>PC7</th>\n",
       "    </tr>\n",
       "  </thead>\n",
       "  <tbody>\n",
       "    <tr>\n",
       "      <th>count</th>\n",
       "      <td>1.070994e+06</td>\n",
       "      <td>1.070994e+06</td>\n",
       "      <td>1.070994e+06</td>\n",
       "      <td>1.070994e+06</td>\n",
       "      <td>1.070994e+06</td>\n",
       "      <td>1.070994e+06</td>\n",
       "      <td>1.070994e+06</td>\n",
       "    </tr>\n",
       "    <tr>\n",
       "      <th>mean</th>\n",
       "      <td>-1.947178e-16</td>\n",
       "      <td>-3.140532e-16</td>\n",
       "      <td>1.632388e-16</td>\n",
       "      <td>-3.549551e-15</td>\n",
       "      <td>2.796430e-15</td>\n",
       "      <td>-5.096815e-16</td>\n",
       "      <td>-2.140157e-15</td>\n",
       "    </tr>\n",
       "    <tr>\n",
       "      <th>std</th>\n",
       "      <td>1.000000e+00</td>\n",
       "      <td>1.000000e+00</td>\n",
       "      <td>1.000000e+00</td>\n",
       "      <td>1.000000e+00</td>\n",
       "      <td>1.000000e+00</td>\n",
       "      <td>1.000000e+00</td>\n",
       "      <td>1.000000e+00</td>\n",
       "    </tr>\n",
       "    <tr>\n",
       "      <th>min</th>\n",
       "      <td>-1.473123e-01</td>\n",
       "      <td>-3.121770e+02</td>\n",
       "      <td>-4.693497e+02</td>\n",
       "      <td>-1.839581e+02</td>\n",
       "      <td>-3.911585e+02</td>\n",
       "      <td>-2.618059e+02</td>\n",
       "      <td>-2.129470e+02</td>\n",
       "    </tr>\n",
       "    <tr>\n",
       "      <th>25%</th>\n",
       "      <td>-6.862403e-02</td>\n",
       "      <td>-9.947863e-02</td>\n",
       "      <td>-6.131603e-02</td>\n",
       "      <td>-1.448078e-01</td>\n",
       "      <td>-1.114985e-01</td>\n",
       "      <td>-7.018083e-02</td>\n",
       "      <td>-1.120009e-01</td>\n",
       "    </tr>\n",
       "    <tr>\n",
       "      <th>50%</th>\n",
       "      <td>-1.944495e-02</td>\n",
       "      <td>-4.105365e-02</td>\n",
       "      <td>1.099319e-02</td>\n",
       "      <td>-2.396815e-02</td>\n",
       "      <td>-5.630875e-02</td>\n",
       "      <td>7.533849e-04</td>\n",
       "      <td>4.435278e-03</td>\n",
       "    </tr>\n",
       "    <tr>\n",
       "      <th>75%</th>\n",
       "      <td>1.192503e-02</td>\n",
       "      <td>2.033200e-02</td>\n",
       "      <td>1.500593e-01</td>\n",
       "      <td>5.505622e-02</td>\n",
       "      <td>3.222938e-02</td>\n",
       "      <td>1.235224e-01</td>\n",
       "      <td>8.384094e-02</td>\n",
       "    </tr>\n",
       "    <tr>\n",
       "      <th>max</th>\n",
       "      <td>5.229280e+02</td>\n",
       "      <td>6.036698e+02</td>\n",
       "      <td>6.141779e+02</td>\n",
       "      <td>3.898521e+02</td>\n",
       "      <td>4.478940e+02</td>\n",
       "      <td>4.230685e+02</td>\n",
       "      <td>3.327260e+02</td>\n",
       "    </tr>\n",
       "  </tbody>\n",
       "</table>\n",
       "</div>"
      ],
      "text/plain": [
       "                PC1           PC2           PC3           PC4           PC5  \\\n",
       "count  1.070994e+06  1.070994e+06  1.070994e+06  1.070994e+06  1.070994e+06   \n",
       "mean  -1.947178e-16 -3.140532e-16  1.632388e-16 -3.549551e-15  2.796430e-15   \n",
       "std    1.000000e+00  1.000000e+00  1.000000e+00  1.000000e+00  1.000000e+00   \n",
       "min   -1.473123e-01 -3.121770e+02 -4.693497e+02 -1.839581e+02 -3.911585e+02   \n",
       "25%   -6.862403e-02 -9.947863e-02 -6.131603e-02 -1.448078e-01 -1.114985e-01   \n",
       "50%   -1.944495e-02 -4.105365e-02  1.099319e-02 -2.396815e-02 -5.630875e-02   \n",
       "75%    1.192503e-02  2.033200e-02  1.500593e-01  5.505622e-02  3.222938e-02   \n",
       "max    5.229280e+02  6.036698e+02  6.141779e+02  3.898521e+02  4.478940e+02   \n",
       "\n",
       "                PC6           PC7  \n",
       "count  1.070994e+06  1.070994e+06  \n",
       "mean  -5.096815e-16 -2.140157e-15  \n",
       "std    1.000000e+00  1.000000e+00  \n",
       "min   -2.618059e+02 -2.129470e+02  \n",
       "25%   -7.018083e-02 -1.120009e-01  \n",
       "50%    7.533849e-04  4.435278e-03  \n",
       "75%    1.235224e-01  8.384094e-02  \n",
       "max    4.230685e+02  3.327260e+02  "
      ]
     },
     "execution_count": 275,
     "metadata": {},
     "output_type": "execute_result"
    }
   ],
   "source": [
    "pca_mean = data_pca.mean()\n",
    "pca_sd = data_pca.std()\n",
    "data_pca = (data_pca - pca_mean) / pca_sd\n",
    "data_pca.describe()\n"
   ]
  },
  {
   "cell_type": "markdown",
   "metadata": {},
   "source": [
    "# Computing scores"
   ]
  },
  {
   "cell_type": "markdown",
   "metadata": {},
   "source": [
    "# Score 1"
   ]
  },
  {
   "cell_type": "code",
   "execution_count": 276,
   "metadata": {
    "ExecuteTime": {
     "end_time": "2021-02-10T09:09:34.208317Z",
     "start_time": "2021-02-10T09:09:34.118210Z"
    }
   },
   "outputs": [],
   "source": [
    "p=1\n",
    "one_over_p = 1/p\n",
    "score1 = (((data_pca).abs()**p).sum(axis=1))**one_over_p\n"
   ]
  },
  {
   "cell_type": "markdown",
   "metadata": {},
   "source": [
    "## Score 2"
   ]
  },
  {
   "cell_type": "code",
   "execution_count": 278,
   "metadata": {
    "ExecuteTime": {
     "end_time": "2021-02-10T09:11:49.705249Z",
     "start_time": "2021-02-10T09:09:34.208996Z"
    }
   },
   "outputs": [
    {
     "name": "stdout",
     "output_type": "stream",
     "text": [
      "Epoch 1/5\n",
      "33469/33469 [==============================] - 20s 601us/step - loss: 0.9943 - val_loss: 0.9264\n",
      "Epoch 2/5\n",
      "33469/33469 [==============================] - 19s 567us/step - loss: 0.7185 - val_loss: 0.9257\n",
      "Epoch 3/5\n",
      "33469/33469 [==============================] - 19s 557us/step - loss: 0.9697 - val_loss: 0.9253\n",
      "Epoch 4/5\n",
      "33469/33469 [==============================] - 20s 608us/step - loss: 0.9245 - val_loss: 0.9254\n",
      "Epoch 5/5\n",
      "33469/33469 [==============================] - 21s 619us/step - loss: 0.8376 - val_loss: 0.9249\n"
     ]
    }
   ],
   "source": [
    "from keras.models import Model\n",
    "from keras.layers import Input, Dense\n",
    "# placeholder for input\n",
    "data_in = Input(shape=(7,))\n",
    "# dimension of the encoded data. Choose 3\n",
    "encoded_dim = 3\n",
    "# encoded representation of the data\n",
    "encoded = Dense(encoded_dim, activation='tanh')(data_in)\n",
    "# reconstruction of the input\n",
    "decoded = Dense(7,activation='tanh')(encoded)\n",
    "# this model maps the input data to the reconstructed data\n",
    "autoencoder = Model(data_in, decoded)\n",
    "\n",
    "autoencoder.compile(optimizer='adam', loss='mean_squared_error')\n",
    "\n",
    "autoencoder.fit(data_pca,data_pca, epochs=5, shuffle=True, validation_data=(data_pca,data_pca))\n",
    "\n",
    "pca_out = autoencoder.predict(data_pca)\n",
    "error = pca_out - data_pca\n",
    "\n",
    "p=4\n",
    "oop=1/p\n",
    "score2 = ((error.abs()**p).sum(axis=1))**oop\n"
   ]
  },
  {
   "cell_type": "code",
   "execution_count": 279,
   "metadata": {
    "ExecuteTime": {
     "end_time": "2021-02-10T09:11:50.184002Z",
     "start_time": "2021-02-10T09:11:49.707579Z"
    }
   },
   "outputs": [],
   "source": [
    "scores = pd.DataFrame(score1)\n",
    "scores.columns=['score1']\n",
    "scores['score2'] = score2\n",
    "scores['score1 rank'] = scores['score1'].rank()\n",
    "scores['score2 rank'] = scores['score2'].rank()\n",
    "scores['final'] = (scores['score1 rank'] + scores['score2 rank'])/2"
   ]
  },
  {
   "cell_type": "code",
   "execution_count": 280,
   "metadata": {
    "ExecuteTime": {
     "end_time": "2021-02-10T09:11:50.916083Z",
     "start_time": "2021-02-10T09:11:50.185907Z"
    }
   },
   "outputs": [
    {
     "data": {
      "text/plain": [
       "(0.1, 2124071.690729293)"
      ]
     },
     "execution_count": 280,
     "metadata": {},
     "output_type": "execute_result"
    },
    {
     "data": {
      "image/png": "[encoded data removed]",
      "text/plain": [
       "<Figure size 1440x720 with 1 Axes>"
      ]
     },
     "metadata": {
      "needs_background": "light"
     },
     "output_type": "display_data"
    }
   ],
   "source": [
    "plt.hist(score1, bins = 100, range=(0,1000))\n",
    "plt.yscale('log')\n",
    "plt.ylim(ymin=.1)"
   ]
  },
  {
   "cell_type": "code",
   "execution_count": 281,
   "metadata": {
    "ExecuteTime": {
     "end_time": "2021-02-10T09:11:51.442363Z",
     "start_time": "2021-02-10T09:11:50.917081Z"
    }
   },
   "outputs": [
    {
     "data": {
      "text/plain": [
       "(0.1, 2142259.8290481246)"
      ]
     },
     "execution_count": 281,
     "metadata": {},
     "output_type": "execute_result"
    },
    {
     "data": {
      "image/png": "[encoded data removed]",
      "text/plain": [
       "<Figure size 1440x720 with 1 Axes>"
      ]
     },
     "metadata": {
      "needs_background": "light"
     },
     "output_type": "display_data"
    }
   ],
   "source": [
    "plt.hist(score2, bins = 100, range=(0,1000))\n",
    "plt.yscale('log')\n",
    "plt.ylim(ymin=.1)"
   ]
  },
  {
   "cell_type": "code",
   "execution_count": 282,
   "metadata": {
    "ExecuteTime": {
     "end_time": "2021-02-10T09:11:54.623885Z",
     "start_time": "2021-02-10T09:11:51.443681Z"
    }
   },
   "outputs": [
    {
     "name": "stderr",
     "output_type": "stream",
     "text": [
      "C:\\Users\\sirwo\\anaconda3\\lib\\site-packages\\seaborn\\distributions.py:2551: FutureWarning: `distplot` is a deprecated function and will be removed in a future version. Please adapt your code to use either `displot` (a figure-level function with similar flexibility) or `histplot` (an axes-level function for histograms).\n",
      "  warnings.warn(msg, FutureWarning)\n"
     ]
    },
    {
     "data": {
      "text/plain": [
       "<AxesSubplot:xlabel='final', ylabel='Density'>"
      ]
     },
     "execution_count": 282,
     "metadata": {},
     "output_type": "execute_result"
    },
    {
     "data": {
      "image/png": "[encoded data removed]",
      "text/plain": [
       "<Figure size 1440x720 with 1 Axes>"
      ]
     },
     "metadata": {
      "needs_background": "light"
     },
     "output_type": "display_data"
    }
   ],
   "source": [
    "sns.distplot(scores['final'])"
   ]
  },
  {
   "cell_type": "code",
   "execution_count": 283,
   "metadata": {
    "ExecuteTime": {
     "end_time": "2021-02-10T09:11:54.654699Z",
     "start_time": "2021-02-10T09:11:54.625308Z"
    }
   },
   "outputs": [
    {
     "name": "stdout",
     "output_type": "stream",
     "text": [
      "<class 'pandas.core.frame.DataFrame'>\n",
      "RangeIndex: 1070994 entries, 0 to 1070993\n",
      "Data columns (total 5 columns):\n",
      " #   Column       Non-Null Count    Dtype  \n",
      "---  ------       --------------    -----  \n",
      " 0   score1       1070994 non-null  float64\n",
      " 1   score2       1070994 non-null  float64\n",
      " 2   score1 rank  1070994 non-null  float64\n",
      " 3   score2 rank  1070994 non-null  float64\n",
      " 4   final        1070994 non-null  float64\n",
      "dtypes: float64(5)\n",
      "memory usage: 40.9 MB\n"
     ]
    }
   ],
   "source": [
    "scores.info()"
   ]
  },
  {
   "cell_type": "markdown",
   "metadata": {},
   "source": [
    "## Append back to original data"
   ]
  },
  {
   "cell_type": "code",
   "execution_count": 284,
   "metadata": {
    "ExecuteTime": {
     "end_time": "2021-02-10T09:11:54.887679Z",
     "start_time": "2021-02-10T09:11:54.655643Z"
    }
   },
   "outputs": [],
   "source": [
    "data_with_scores = pd.concat([property_data, scores], axis = 1)"
   ]
  },
  {
   "cell_type": "code",
   "execution_count": 285,
   "metadata": {
    "ExecuteTime": {
     "end_time": "2021-02-10T09:11:54.918208Z",
     "start_time": "2021-02-10T09:11:54.888783Z"
    },
    "scrolled": false
   },
   "outputs": [
    {
     "data": {
      "text/html": [
       "<div>\n",
       "<style scoped>\n",
       "    .dataframe tbody tr th:only-of-type {\n",
       "        vertical-align: middle;\n",
       "    }\n",
       "\n",
       "    .dataframe tbody tr th {\n",
       "        vertical-align: top;\n",
       "    }\n",
       "\n",
       "    .dataframe thead th {\n",
       "        text-align: right;\n",
       "    }\n",
       "</style>\n",
       "<table border=\"1\" class=\"dataframe\">\n",
       "  <thead>\n",
       "    <tr style=\"text-align: right;\">\n",
       "      <th></th>\n",
       "      <th>RECORD</th>\n",
       "      <th>BBLE</th>\n",
       "      <th>B</th>\n",
       "      <th>BLOCK</th>\n",
       "      <th>LOT</th>\n",
       "      <th>EASEMENT</th>\n",
       "      <th>OWNER</th>\n",
       "      <th>BLDGCL</th>\n",
       "      <th>TAXCLASS</th>\n",
       "      <th>LTFRONT</th>\n",
       "      <th>...</th>\n",
       "      <th>EXTOT2</th>\n",
       "      <th>EXCD2</th>\n",
       "      <th>PERIOD</th>\n",
       "      <th>YEAR</th>\n",
       "      <th>VALTYPE</th>\n",
       "      <th>score1</th>\n",
       "      <th>score2</th>\n",
       "      <th>score1 rank</th>\n",
       "      <th>score2 rank</th>\n",
       "      <th>final</th>\n",
       "    </tr>\n",
       "  </thead>\n",
       "  <tbody>\n",
       "    <tr>\n",
       "      <th>0</th>\n",
       "      <td>1</td>\n",
       "      <td>1000010101</td>\n",
       "      <td>1</td>\n",
       "      <td>1</td>\n",
       "      <td>101</td>\n",
       "      <td>NaN</td>\n",
       "      <td>U S GOVT LAND &amp; BLDGS</td>\n",
       "      <td>P7</td>\n",
       "      <td>4</td>\n",
       "      <td>500.0</td>\n",
       "      <td>...</td>\n",
       "      <td>8613000.0</td>\n",
       "      <td>NaN</td>\n",
       "      <td>FINAL</td>\n",
       "      <td>2010/11</td>\n",
       "      <td>AC-TR</td>\n",
       "      <td>4.932747</td>\n",
       "      <td>1.095585</td>\n",
       "      <td>1049354.0</td>\n",
       "      <td>1056142.0</td>\n",
       "      <td>1052748.0</td>\n",
       "    </tr>\n",
       "    <tr>\n",
       "      <th>1</th>\n",
       "      <td>2</td>\n",
       "      <td>1000010201</td>\n",
       "      <td>1</td>\n",
       "      <td>1</td>\n",
       "      <td>201</td>\n",
       "      <td>NaN</td>\n",
       "      <td>U S GOVT LAND &amp; BLDGS</td>\n",
       "      <td>Z9</td>\n",
       "      <td>4</td>\n",
       "      <td>27.0</td>\n",
       "      <td>...</td>\n",
       "      <td>80690400.0</td>\n",
       "      <td>NaN</td>\n",
       "      <td>FINAL</td>\n",
       "      <td>2010/11</td>\n",
       "      <td>AC-TR</td>\n",
       "      <td>204.059103</td>\n",
       "      <td>54.449376</td>\n",
       "      <td>1070906.0</td>\n",
       "      <td>1070889.0</td>\n",
       "      <td>1070897.5</td>\n",
       "    </tr>\n",
       "    <tr>\n",
       "      <th>2</th>\n",
       "      <td>3</td>\n",
       "      <td>1000020001</td>\n",
       "      <td>1</td>\n",
       "      <td>2</td>\n",
       "      <td>1</td>\n",
       "      <td>NaN</td>\n",
       "      <td>DEPT OF GENERAL SERVI</td>\n",
       "      <td>Y7</td>\n",
       "      <td>4</td>\n",
       "      <td>709.0</td>\n",
       "      <td>...</td>\n",
       "      <td>40179510.0</td>\n",
       "      <td>NaN</td>\n",
       "      <td>FINAL</td>\n",
       "      <td>2010/11</td>\n",
       "      <td>AC-TR</td>\n",
       "      <td>0.552108</td>\n",
       "      <td>0.132014</td>\n",
       "      <td>517960.0</td>\n",
       "      <td>893823.0</td>\n",
       "      <td>705891.5</td>\n",
       "    </tr>\n",
       "    <tr>\n",
       "      <th>3</th>\n",
       "      <td>4</td>\n",
       "      <td>1000020023</td>\n",
       "      <td>1</td>\n",
       "      <td>2</td>\n",
       "      <td>23</td>\n",
       "      <td>NaN</td>\n",
       "      <td>DEPARTMENT OF BUSINES</td>\n",
       "      <td>T2</td>\n",
       "      <td>4</td>\n",
       "      <td>793.0</td>\n",
       "      <td>...</td>\n",
       "      <td>15750000.0</td>\n",
       "      <td>NaN</td>\n",
       "      <td>FINAL</td>\n",
       "      <td>2010/11</td>\n",
       "      <td>AC-TR</td>\n",
       "      <td>0.769777</td>\n",
       "      <td>0.201275</td>\n",
       "      <td>653605.0</td>\n",
       "      <td>982779.0</td>\n",
       "      <td>818192.0</td>\n",
       "    </tr>\n",
       "    <tr>\n",
       "      <th>4</th>\n",
       "      <td>5</td>\n",
       "      <td>1000030001</td>\n",
       "      <td>1</td>\n",
       "      <td>3</td>\n",
       "      <td>1</td>\n",
       "      <td>NaN</td>\n",
       "      <td>PARKS AND RECREATION</td>\n",
       "      <td>Q1</td>\n",
       "      <td>4</td>\n",
       "      <td>323.0</td>\n",
       "      <td>...</td>\n",
       "      <td>107758350.0</td>\n",
       "      <td>NaN</td>\n",
       "      <td>FINAL</td>\n",
       "      <td>2010/11</td>\n",
       "      <td>AC-TR</td>\n",
       "      <td>93.782664</td>\n",
       "      <td>30.724811</td>\n",
       "      <td>1070760.0</td>\n",
       "      <td>1070763.0</td>\n",
       "      <td>1070761.5</td>\n",
       "    </tr>\n",
       "  </tbody>\n",
       "</table>\n",
       "<p>5 rows × 37 columns</p>\n",
       "</div>"
      ],
      "text/plain": [
       "   RECORD        BBLE  B  BLOCK  LOT EASEMENT                  OWNER BLDGCL  \\\n",
       "0       1  1000010101  1      1  101      NaN  U S GOVT LAND & BLDGS     P7   \n",
       "1       2  1000010201  1      1  201      NaN  U S GOVT LAND & BLDGS     Z9   \n",
       "2       3  1000020001  1      2    1      NaN  DEPT OF GENERAL SERVI     Y7   \n",
       "3       4  1000020023  1      2   23      NaN  DEPARTMENT OF BUSINES     T2   \n",
       "4       5  1000030001  1      3    1      NaN   PARKS AND RECREATION     Q1   \n",
       "\n",
       "  TAXCLASS  LTFRONT  ...       EXTOT2 EXCD2  PERIOD     YEAR  VALTYPE  \\\n",
       "0        4    500.0  ...    8613000.0   NaN   FINAL  2010/11    AC-TR   \n",
       "1        4     27.0  ...   80690400.0   NaN   FINAL  2010/11    AC-TR   \n",
       "2        4    709.0  ...   40179510.0   NaN   FINAL  2010/11    AC-TR   \n",
       "3        4    793.0  ...   15750000.0   NaN   FINAL  2010/11    AC-TR   \n",
       "4        4    323.0  ...  107758350.0   NaN   FINAL  2010/11    AC-TR   \n",
       "\n",
       "       score1     score2  score1 rank  score2 rank      final  \n",
       "0    4.932747   1.095585    1049354.0    1056142.0  1052748.0  \n",
       "1  204.059103  54.449376    1070906.0    1070889.0  1070897.5  \n",
       "2    0.552108   0.132014     517960.0     893823.0   705891.5  \n",
       "3    0.769777   0.201275     653605.0     982779.0   818192.0  \n",
       "4   93.782664  30.724811    1070760.0    1070763.0  1070761.5  \n",
       "\n",
       "[5 rows x 37 columns]"
      ]
     },
     "execution_count": 285,
     "metadata": {},
     "output_type": "execute_result"
    }
   ],
   "source": [
    "data_with_scores.head()"
   ]
  },
  {
   "cell_type": "code",
   "execution_count": 286,
   "metadata": {
    "scrolled": true
   },
   "outputs": [
    {
     "name": "stdout",
     "output_type": "stream",
     "text": [
      "Int64Index([ 917941,  565391,   85885,  684703,   67128,  915468,  690832,\n",
      "              44247, 1059882,  116646,  565397,   39769,  501142,  556608,\n",
      "             106680,  738017,  151043,  957063, 1065869,   33750,     418,\n",
      "             964933,  918203,  252833,  927226,  139725,   48220,  918857,\n",
      "              19241,  985596,  932860,  915469,  104410,  330290,  771149,\n",
      "             684562,  964947,  610681,  752487,   97083,  245572,   60468,\n",
      "             691878,  720599,  934792,  665157,  649674,  153069,  973911,\n",
      "             464854,   56135,  556910,  773561,  764311,   47983,  918304,\n",
      "             923882,  216947,  177645,  131602,   86945,   85883,  340899,\n",
      "             109066,  209711,  991516,  621688,  817348,  918204,  209713,\n",
      "             638992,  248664,  917059,  451671,  243058,  994812,  994814,\n",
      "             994816,  994818,  174538,   12075,  334956,  994820,  992070,\n",
      "              26242,  330291,  773734,   56133,   88388,  991782,   79816,\n",
      "             259234,  918919,  934749,  398277,  116645,   85961,       1,\n",
      "              33563,   64270],\n",
      "           dtype='int64')\n"
     ]
    }
   ],
   "source": [
    "top100 = data_with_scores.sort_values(['final'], ascending = False).head(100).index\n",
    "print(top100)"
   ]
  },
  {
   "cell_type": "code",
   "execution_count": 287,
   "metadata": {},
   "outputs": [
    {
     "data": {
      "text/html": [
       "<div>\n",
       "<style scoped>\n",
       "    .dataframe tbody tr th:only-of-type {\n",
       "        vertical-align: middle;\n",
       "    }\n",
       "\n",
       "    .dataframe tbody tr th {\n",
       "        vertical-align: top;\n",
       "    }\n",
       "\n",
       "    .dataframe thead th {\n",
       "        text-align: right;\n",
       "    }\n",
       "</style>\n",
       "<table border=\"1\" class=\"dataframe\">\n",
       "  <thead>\n",
       "    <tr style=\"text-align: right;\">\n",
       "      <th></th>\n",
       "      <th>RECORD</th>\n",
       "      <th>BBLE</th>\n",
       "      <th>B</th>\n",
       "      <th>BLOCK</th>\n",
       "      <th>LOT</th>\n",
       "      <th>EASEMENT</th>\n",
       "      <th>OWNER</th>\n",
       "      <th>BLDGCL</th>\n",
       "      <th>TAXCLASS</th>\n",
       "      <th>LTFRONT</th>\n",
       "      <th>...</th>\n",
       "      <th>EXTOT2</th>\n",
       "      <th>EXCD2</th>\n",
       "      <th>PERIOD</th>\n",
       "      <th>YEAR</th>\n",
       "      <th>VALTYPE</th>\n",
       "      <th>score1</th>\n",
       "      <th>score2</th>\n",
       "      <th>score1 rank</th>\n",
       "      <th>score2 rank</th>\n",
       "      <th>final</th>\n",
       "    </tr>\n",
       "  </thead>\n",
       "  <tbody>\n",
       "    <tr>\n",
       "      <th>917941</th>\n",
       "      <td>917942</td>\n",
       "      <td>4142600001</td>\n",
       "      <td>4</td>\n",
       "      <td>14260</td>\n",
       "      <td>1</td>\n",
       "      <td>NaN</td>\n",
       "      <td>LOGAN PROPERTY, INC.</td>\n",
       "      <td>T1</td>\n",
       "      <td>4</td>\n",
       "      <td>4910.000000</td>\n",
       "      <td>...</td>\n",
       "      <td>4.501180e+09</td>\n",
       "      <td>NaN</td>\n",
       "      <td>FINAL</td>\n",
       "      <td>2010/11</td>\n",
       "      <td>AC-TR</td>\n",
       "      <td>2209.936561</td>\n",
       "      <td>695.304049</td>\n",
       "      <td>1070994.0</td>\n",
       "      <td>1070994.0</td>\n",
       "      <td>1070994.0</td>\n",
       "    </tr>\n",
       "    <tr>\n",
       "      <th>565391</th>\n",
       "      <td>565392</td>\n",
       "      <td>3085900700</td>\n",
       "      <td>3</td>\n",
       "      <td>8590</td>\n",
       "      <td>700</td>\n",
       "      <td>NaN</td>\n",
       "      <td>U S GOVERNMENT OWNRD</td>\n",
       "      <td>V9</td>\n",
       "      <td>4</td>\n",
       "      <td>117.000000</td>\n",
       "      <td>...</td>\n",
       "      <td>8.484847e+08</td>\n",
       "      <td>NaN</td>\n",
       "      <td>FINAL</td>\n",
       "      <td>2010/11</td>\n",
       "      <td>AC-TR</td>\n",
       "      <td>2025.314102</td>\n",
       "      <td>659.398368</td>\n",
       "      <td>1070993.0</td>\n",
       "      <td>1070993.0</td>\n",
       "      <td>1070993.0</td>\n",
       "    </tr>\n",
       "    <tr>\n",
       "      <th>85885</th>\n",
       "      <td>85886</td>\n",
       "      <td>1012540010</td>\n",
       "      <td>1</td>\n",
       "      <td>1254</td>\n",
       "      <td>10</td>\n",
       "      <td>NaN</td>\n",
       "      <td>PARKS AND RECREATION</td>\n",
       "      <td>Q1</td>\n",
       "      <td>4</td>\n",
       "      <td>4000.000000</td>\n",
       "      <td>...</td>\n",
       "      <td>2.826018e+07</td>\n",
       "      <td>NaN</td>\n",
       "      <td>FINAL</td>\n",
       "      <td>2010/11</td>\n",
       "      <td>AC-TR</td>\n",
       "      <td>1921.854967</td>\n",
       "      <td>606.052380</td>\n",
       "      <td>1070992.0</td>\n",
       "      <td>1070992.0</td>\n",
       "      <td>1070992.0</td>\n",
       "    </tr>\n",
       "    <tr>\n",
       "      <th>684703</th>\n",
       "      <td>684704</td>\n",
       "      <td>4036590105</td>\n",
       "      <td>4</td>\n",
       "      <td>3659</td>\n",
       "      <td>105</td>\n",
       "      <td>NaN</td>\n",
       "      <td>W RUFERT</td>\n",
       "      <td>V0</td>\n",
       "      <td>1B</td>\n",
       "      <td>2.000000</td>\n",
       "      <td>...</td>\n",
       "      <td>NaN</td>\n",
       "      <td>NaN</td>\n",
       "      <td>FINAL</td>\n",
       "      <td>2010/11</td>\n",
       "      <td>AC-TR</td>\n",
       "      <td>1278.165719</td>\n",
       "      <td>448.163505</td>\n",
       "      <td>1070990.0</td>\n",
       "      <td>1070991.0</td>\n",
       "      <td>1070990.5</td>\n",
       "    </tr>\n",
       "    <tr>\n",
       "      <th>67128</th>\n",
       "      <td>67129</td>\n",
       "      <td>1011110001</td>\n",
       "      <td>1</td>\n",
       "      <td>1111</td>\n",
       "      <td>1</td>\n",
       "      <td>NaN</td>\n",
       "      <td>CULTURAL AFFAIRS</td>\n",
       "      <td>Q1</td>\n",
       "      <td>4</td>\n",
       "      <td>840.000000</td>\n",
       "      <td>...</td>\n",
       "      <td>2.465055e+09</td>\n",
       "      <td>NaN</td>\n",
       "      <td>FINAL</td>\n",
       "      <td>2010/11</td>\n",
       "      <td>AC-TR</td>\n",
       "      <td>1328.074705</td>\n",
       "      <td>427.753202</td>\n",
       "      <td>1070991.0</td>\n",
       "      <td>1070990.0</td>\n",
       "      <td>1070990.5</td>\n",
       "    </tr>\n",
       "    <tr>\n",
       "      <th>...</th>\n",
       "      <td>...</td>\n",
       "      <td>...</td>\n",
       "      <td>...</td>\n",
       "      <td>...</td>\n",
       "      <td>...</td>\n",
       "      <td>...</td>\n",
       "      <td>...</td>\n",
       "      <td>...</td>\n",
       "      <td>...</td>\n",
       "      <td>...</td>\n",
       "      <td>...</td>\n",
       "      <td>...</td>\n",
       "      <td>...</td>\n",
       "      <td>...</td>\n",
       "      <td>...</td>\n",
       "      <td>...</td>\n",
       "      <td>...</td>\n",
       "      <td>...</td>\n",
       "      <td>...</td>\n",
       "      <td>...</td>\n",
       "      <td>...</td>\n",
       "    </tr>\n",
       "    <tr>\n",
       "      <th>116645</th>\n",
       "      <td>116646</td>\n",
       "      <td>1015410001</td>\n",
       "      <td>1</td>\n",
       "      <td>1541</td>\n",
       "      <td>1</td>\n",
       "      <td>NaN</td>\n",
       "      <td>YORKVILLE PLAZA ASSOC</td>\n",
       "      <td>D6</td>\n",
       "      <td>2</td>\n",
       "      <td>25.000000</td>\n",
       "      <td>...</td>\n",
       "      <td>NaN</td>\n",
       "      <td>NaN</td>\n",
       "      <td>FINAL</td>\n",
       "      <td>2010/11</td>\n",
       "      <td>AC-TR</td>\n",
       "      <td>191.921334</td>\n",
       "      <td>59.040155</td>\n",
       "      <td>1070899.0</td>\n",
       "      <td>1070900.0</td>\n",
       "      <td>1070899.5</td>\n",
       "    </tr>\n",
       "    <tr>\n",
       "      <th>85961</th>\n",
       "      <td>85962</td>\n",
       "      <td>1012600014</td>\n",
       "      <td>1</td>\n",
       "      <td>1260</td>\n",
       "      <td>14</td>\n",
       "      <td>NaN</td>\n",
       "      <td>WEST 44TH STREET OWNE</td>\n",
       "      <td>H2</td>\n",
       "      <td>4</td>\n",
       "      <td>18.000000</td>\n",
       "      <td>...</td>\n",
       "      <td>NaN</td>\n",
       "      <td>NaN</td>\n",
       "      <td>FINAL</td>\n",
       "      <td>2010/11</td>\n",
       "      <td>AC-TR</td>\n",
       "      <td>193.798166</td>\n",
       "      <td>56.632608</td>\n",
       "      <td>1070901.0</td>\n",
       "      <td>1070894.0</td>\n",
       "      <td>1070897.5</td>\n",
       "    </tr>\n",
       "    <tr>\n",
       "      <th>1</th>\n",
       "      <td>2</td>\n",
       "      <td>1000010201</td>\n",
       "      <td>1</td>\n",
       "      <td>1</td>\n",
       "      <td>201</td>\n",
       "      <td>NaN</td>\n",
       "      <td>U S GOVT LAND &amp; BLDGS</td>\n",
       "      <td>Z9</td>\n",
       "      <td>4</td>\n",
       "      <td>27.000000</td>\n",
       "      <td>...</td>\n",
       "      <td>8.069040e+07</td>\n",
       "      <td>NaN</td>\n",
       "      <td>FINAL</td>\n",
       "      <td>2010/11</td>\n",
       "      <td>AC-TR</td>\n",
       "      <td>204.059103</td>\n",
       "      <td>54.449376</td>\n",
       "      <td>1070906.0</td>\n",
       "      <td>1070889.0</td>\n",
       "      <td>1070897.5</td>\n",
       "    </tr>\n",
       "    <tr>\n",
       "      <th>33563</th>\n",
       "      <td>33564</td>\n",
       "      <td>1006890017</td>\n",
       "      <td>1</td>\n",
       "      <td>689</td>\n",
       "      <td>17</td>\n",
       "      <td>NaN</td>\n",
       "      <td>HLP PROPERTIES, LLC</td>\n",
       "      <td>G6</td>\n",
       "      <td>4</td>\n",
       "      <td>380.000000</td>\n",
       "      <td>...</td>\n",
       "      <td>NaN</td>\n",
       "      <td>NaN</td>\n",
       "      <td>FINAL</td>\n",
       "      <td>2010/11</td>\n",
       "      <td>AC-TR</td>\n",
       "      <td>201.275753</td>\n",
       "      <td>53.988141</td>\n",
       "      <td>1070904.0</td>\n",
       "      <td>1070887.0</td>\n",
       "      <td>1070895.5</td>\n",
       "    </tr>\n",
       "    <tr>\n",
       "      <th>64270</th>\n",
       "      <td>64271</td>\n",
       "      <td>1010491004</td>\n",
       "      <td>1</td>\n",
       "      <td>1049</td>\n",
       "      <td>1004</td>\n",
       "      <td>NaN</td>\n",
       "      <td>AOL TIME WARNER REALT</td>\n",
       "      <td>R5</td>\n",
       "      <td>4</td>\n",
       "      <td>93.937119</td>\n",
       "      <td>...</td>\n",
       "      <td>NaN</td>\n",
       "      <td>NaN</td>\n",
       "      <td>FINAL</td>\n",
       "      <td>2010/11</td>\n",
       "      <td>AC-TR</td>\n",
       "      <td>192.192191</td>\n",
       "      <td>54.218240</td>\n",
       "      <td>1070900.0</td>\n",
       "      <td>1070888.0</td>\n",
       "      <td>1070894.0</td>\n",
       "    </tr>\n",
       "  </tbody>\n",
       "</table>\n",
       "<p>100 rows × 37 columns</p>\n",
       "</div>"
      ],
      "text/plain": [
       "        RECORD        BBLE  B  BLOCK   LOT EASEMENT                  OWNER  \\\n",
       "917941  917942  4142600001  4  14260     1      NaN   LOGAN PROPERTY, INC.   \n",
       "565391  565392  3085900700  3   8590   700      NaN   U S GOVERNMENT OWNRD   \n",
       "85885    85886  1012540010  1   1254    10      NaN   PARKS AND RECREATION   \n",
       "684703  684704  4036590105  4   3659   105      NaN               W RUFERT   \n",
       "67128    67129  1011110001  1   1111     1      NaN       CULTURAL AFFAIRS   \n",
       "...        ...         ... ..    ...   ...      ...                    ...   \n",
       "116645  116646  1015410001  1   1541     1      NaN  YORKVILLE PLAZA ASSOC   \n",
       "85961    85962  1012600014  1   1260    14      NaN  WEST 44TH STREET OWNE   \n",
       "1            2  1000010201  1      1   201      NaN  U S GOVT LAND & BLDGS   \n",
       "33563    33564  1006890017  1    689    17      NaN    HLP PROPERTIES, LLC   \n",
       "64270    64271  1010491004  1   1049  1004      NaN  AOL TIME WARNER REALT   \n",
       "\n",
       "       BLDGCL TAXCLASS      LTFRONT  ...        EXTOT2 EXCD2  PERIOD     YEAR  \\\n",
       "917941     T1        4  4910.000000  ...  4.501180e+09   NaN   FINAL  2010/11   \n",
       "565391     V9        4   117.000000  ...  8.484847e+08   NaN   FINAL  2010/11   \n",
       "85885      Q1        4  4000.000000  ...  2.826018e+07   NaN   FINAL  2010/11   \n",
       "684703     V0       1B     2.000000  ...           NaN   NaN   FINAL  2010/11   \n",
       "67128      Q1        4   840.000000  ...  2.465055e+09   NaN   FINAL  2010/11   \n",
       "...       ...      ...          ...  ...           ...   ...     ...      ...   \n",
       "116645     D6        2    25.000000  ...           NaN   NaN   FINAL  2010/11   \n",
       "85961      H2        4    18.000000  ...           NaN   NaN   FINAL  2010/11   \n",
       "1          Z9        4    27.000000  ...  8.069040e+07   NaN   FINAL  2010/11   \n",
       "33563      G6        4   380.000000  ...           NaN   NaN   FINAL  2010/11   \n",
       "64270      R5        4    93.937119  ...           NaN   NaN   FINAL  2010/11   \n",
       "\n",
       "        VALTYPE       score1      score2  score1 rank  score2 rank      final  \n",
       "917941    AC-TR  2209.936561  695.304049    1070994.0    1070994.0  1070994.0  \n",
       "565391    AC-TR  2025.314102  659.398368    1070993.0    1070993.0  1070993.0  \n",
       "85885     AC-TR  1921.854967  606.052380    1070992.0    1070992.0  1070992.0  \n",
       "684703    AC-TR  1278.165719  448.163505    1070990.0    1070991.0  1070990.5  \n",
       "67128     AC-TR  1328.074705  427.753202    1070991.0    1070990.0  1070990.5  \n",
       "...         ...          ...         ...          ...          ...        ...  \n",
       "116645    AC-TR   191.921334   59.040155    1070899.0    1070900.0  1070899.5  \n",
       "85961     AC-TR   193.798166   56.632608    1070901.0    1070894.0  1070897.5  \n",
       "1         AC-TR   204.059103   54.449376    1070906.0    1070889.0  1070897.5  \n",
       "33563     AC-TR   201.275753   53.988141    1070904.0    1070887.0  1070895.5  \n",
       "64270     AC-TR   192.192191   54.218240    1070900.0    1070888.0  1070894.0  \n",
       "\n",
       "[100 rows x 37 columns]"
      ]
     },
     "execution_count": 287,
     "metadata": {},
     "output_type": "execute_result"
    }
   ],
   "source": [
    "data_zs_top100 = data_with_scores.iloc[top100]\n",
    "data_zs_top100"
   ]
  },
  {
   "cell_type": "code",
   "execution_count": 296,
   "metadata": {},
   "outputs": [],
   "source": [
    "data_zs_top100.to_csv('new_top100.csv', index=False)"
   ]
  },
  {
   "cell_type": "code",
   "execution_count": 289,
   "metadata": {},
   "outputs": [
    {
     "data": {
      "text/html": [
       "<div>\n",
       "<style scoped>\n",
       "    .dataframe tbody tr th:only-of-type {\n",
       "        vertical-align: middle;\n",
       "    }\n",
       "\n",
       "    .dataframe tbody tr th {\n",
       "        vertical-align: top;\n",
       "    }\n",
       "\n",
       "    .dataframe thead th {\n",
       "        text-align: right;\n",
       "    }\n",
       "</style>\n",
       "<table border=\"1\" class=\"dataframe\">\n",
       "  <thead>\n",
       "    <tr style=\"text-align: right;\">\n",
       "      <th></th>\n",
       "      <th>RECORD</th>\n",
       "      <th>r1</th>\n",
       "      <th>r2</th>\n",
       "      <th>r3</th>\n",
       "      <th>r4</th>\n",
       "      <th>r5</th>\n",
       "      <th>r6</th>\n",
       "      <th>r7</th>\n",
       "      <th>r8</th>\n",
       "      <th>r9</th>\n",
       "      <th>...</th>\n",
       "      <th>r9_taxclass</th>\n",
       "      <th>r1_boro</th>\n",
       "      <th>r2_boro</th>\n",
       "      <th>r3_boro</th>\n",
       "      <th>r4_boro</th>\n",
       "      <th>r5_boro</th>\n",
       "      <th>r6_boro</th>\n",
       "      <th>r7_boro</th>\n",
       "      <th>r8_boro</th>\n",
       "      <th>r9_boro</th>\n",
       "    </tr>\n",
       "  </thead>\n",
       "  <tbody>\n",
       "    <tr>\n",
       "      <th>0</th>\n",
       "      <td>1</td>\n",
       "      <td>40.917782</td>\n",
       "      <td>3781.487225</td>\n",
       "      <td>694.237107</td>\n",
       "      <td>8.079350</td>\n",
       "      <td>746.667022</td>\n",
       "      <td>137.079388</td>\n",
       "      <td>18.413002</td>\n",
       "      <td>1701.669251</td>\n",
       "      <td>312.406698</td>\n",
       "      <td>...</td>\n",
       "      <td>2.794864</td>\n",
       "      <td>0.115040</td>\n",
       "      <td>6.906445</td>\n",
       "      <td>5.079761</td>\n",
       "      <td>0.238229</td>\n",
       "      <td>11.898251</td>\n",
       "      <td>6.281489</td>\n",
       "      <td>0.199588</td>\n",
       "      <td>11.907976</td>\n",
       "      <td>9.364705</td>\n",
       "    </tr>\n",
       "    <tr>\n",
       "      <th>1</th>\n",
       "      <td>2</td>\n",
       "      <td>53616.895011</td>\n",
       "      <td>34245.431036</td>\n",
       "      <td>6287.063144</td>\n",
       "      <td>3959.018409</td>\n",
       "      <td>2528.648700</td>\n",
       "      <td>464.230514</td>\n",
       "      <td>24127.602755</td>\n",
       "      <td>15410.443966</td>\n",
       "      <td>2829.178415</td>\n",
       "      <td>...</td>\n",
       "      <td>25.310494</td>\n",
       "      <td>150.743329</td>\n",
       "      <td>62.545284</td>\n",
       "      <td>46.002691</td>\n",
       "      <td>116.736206</td>\n",
       "      <td>40.294395</td>\n",
       "      <td>21.272775</td>\n",
       "      <td>261.531359</td>\n",
       "      <td>107.839517</td>\n",
       "      <td>84.807469</td>\n",
       "    </tr>\n",
       "    <tr>\n",
       "      <th>2</th>\n",
       "      <td>3</td>\n",
       "      <td>261.796157</td>\n",
       "      <td>261.796157</td>\n",
       "      <td>87.265386</td>\n",
       "      <td>97.551991</td>\n",
       "      <td>97.551991</td>\n",
       "      <td>32.517330</td>\n",
       "      <td>117.808271</td>\n",
       "      <td>117.808271</td>\n",
       "      <td>39.269424</td>\n",
       "      <td>...</td>\n",
       "      <td>0.351313</td>\n",
       "      <td>0.736037</td>\n",
       "      <td>0.478140</td>\n",
       "      <td>0.638524</td>\n",
       "      <td>2.876433</td>\n",
       "      <td>1.554506</td>\n",
       "      <td>1.490065</td>\n",
       "      <td>1.276984</td>\n",
       "      <td>0.824401</td>\n",
       "      <td>1.177140</td>\n",
       "    </tr>\n",
       "    <tr>\n",
       "      <th>3</th>\n",
       "      <td>4</td>\n",
       "      <td>89.714219</td>\n",
       "      <td>836.980890</td>\n",
       "      <td>418.490445</td>\n",
       "      <td>34.913021</td>\n",
       "      <td>325.717946</td>\n",
       "      <td>162.858973</td>\n",
       "      <td>40.371399</td>\n",
       "      <td>376.641401</td>\n",
       "      <td>188.320700</td>\n",
       "      <td>...</td>\n",
       "      <td>1.684761</td>\n",
       "      <td>0.252231</td>\n",
       "      <td>1.528648</td>\n",
       "      <td>3.062111</td>\n",
       "      <td>1.029451</td>\n",
       "      <td>5.190364</td>\n",
       "      <td>7.462806</td>\n",
       "      <td>0.437606</td>\n",
       "      <td>2.635669</td>\n",
       "      <td>5.645102</td>\n",
       "    </tr>\n",
       "    <tr>\n",
       "      <th>4</th>\n",
       "      <td>5</td>\n",
       "      <td>669.074647</td>\n",
       "      <td>53676.325646</td>\n",
       "      <td>53676.325646</td>\n",
       "      <td>297.434763</td>\n",
       "      <td>23861.620343</td>\n",
       "      <td>23861.620343</td>\n",
       "      <td>301.083591</td>\n",
       "      <td>24154.346541</td>\n",
       "      <td>24154.346541</td>\n",
       "      <td>...</td>\n",
       "      <td>216.090453</td>\n",
       "      <td>1.881096</td>\n",
       "      <td>98.033545</td>\n",
       "      <td>392.751808</td>\n",
       "      <td>8.770206</td>\n",
       "      <td>380.238484</td>\n",
       "      <td>1093.428521</td>\n",
       "      <td>3.263598</td>\n",
       "      <td>169.027775</td>\n",
       "      <td>724.050838</td>\n",
       "    </tr>\n",
       "  </tbody>\n",
       "</table>\n",
       "<p>5 rows × 46 columns</p>\n",
       "</div>"
      ],
      "text/plain": [
       "   RECORD            r1            r2            r3           r4  \\\n",
       "0       1     40.917782   3781.487225    694.237107     8.079350   \n",
       "1       2  53616.895011  34245.431036   6287.063144  3959.018409   \n",
       "2       3    261.796157    261.796157     87.265386    97.551991   \n",
       "3       4     89.714219    836.980890    418.490445    34.913021   \n",
       "4       5    669.074647  53676.325646  53676.325646   297.434763   \n",
       "\n",
       "             r5            r6            r7            r8            r9  ...  \\\n",
       "0    746.667022    137.079388     18.413002   1701.669251    312.406698  ...   \n",
       "1   2528.648700    464.230514  24127.602755  15410.443966   2829.178415  ...   \n",
       "2     97.551991     32.517330    117.808271    117.808271     39.269424  ...   \n",
       "3    325.717946    162.858973     40.371399    376.641401    188.320700  ...   \n",
       "4  23861.620343  23861.620343    301.083591  24154.346541  24154.346541  ...   \n",
       "\n",
       "   r9_taxclass     r1_boro    r2_boro     r3_boro     r4_boro     r5_boro  \\\n",
       "0     2.794864    0.115040   6.906445    5.079761    0.238229   11.898251   \n",
       "1    25.310494  150.743329  62.545284   46.002691  116.736206   40.294395   \n",
       "2     0.351313    0.736037   0.478140    0.638524    2.876433    1.554506   \n",
       "3     1.684761    0.252231   1.528648    3.062111    1.029451    5.190364   \n",
       "4   216.090453    1.881096  98.033545  392.751808    8.770206  380.238484   \n",
       "\n",
       "       r6_boro     r7_boro     r8_boro     r9_boro  \n",
       "0     6.281489    0.199588   11.907976    9.364705  \n",
       "1    21.272775  261.531359  107.839517   84.807469  \n",
       "2     1.490065    1.276984    0.824401    1.177140  \n",
       "3     7.462806    0.437606    2.635669    5.645102  \n",
       "4  1093.428521    3.263598  169.027775  724.050838  \n",
       "\n",
       "[5 rows x 46 columns]"
      ]
     },
     "execution_count": 289,
     "metadata": {},
     "output_type": "execute_result"
    }
   ],
   "source": [
    "data2 = data_orig.copy()\n",
    "data2.head()"
   ]
  },
  {
   "cell_type": "code",
   "execution_count": 290,
   "metadata": {},
   "outputs": [],
   "source": [
    "data2 = data2.iloc[top100]\n",
    "data2.set_index('RECORD',inplace=True)"
   ]
  },
  {
   "cell_type": "code",
   "execution_count": 298,
   "metadata": {},
   "outputs": [
    {
     "data": {
      "text/html": [
       "<div>\n",
       "<style scoped>\n",
       "    .dataframe tbody tr th:only-of-type {\n",
       "        vertical-align: middle;\n",
       "    }\n",
       "\n",
       "    .dataframe tbody tr th {\n",
       "        vertical-align: top;\n",
       "    }\n",
       "\n",
       "    .dataframe thead th {\n",
       "        text-align: right;\n",
       "    }\n",
       "</style>\n",
       "<table border=\"1\" class=\"dataframe\">\n",
       "  <thead>\n",
       "    <tr style=\"text-align: right;\">\n",
       "      <th></th>\n",
       "      <th>r1</th>\n",
       "      <th>r2</th>\n",
       "      <th>r3</th>\n",
       "      <th>r4</th>\n",
       "      <th>r5</th>\n",
       "      <th>r6</th>\n",
       "      <th>r7</th>\n",
       "      <th>r8</th>\n",
       "      <th>r9</th>\n",
       "      <th>r1_zip5</th>\n",
       "      <th>...</th>\n",
       "      <th>r9_taxclass</th>\n",
       "      <th>r1_boro</th>\n",
       "      <th>r2_boro</th>\n",
       "      <th>r3_boro</th>\n",
       "      <th>r4_boro</th>\n",
       "      <th>r5_boro</th>\n",
       "      <th>r6_boro</th>\n",
       "      <th>r7_boro</th>\n",
       "      <th>r8_boro</th>\n",
       "      <th>r9_boro</th>\n",
       "    </tr>\n",
       "    <tr>\n",
       "      <th>RECORD</th>\n",
       "      <th></th>\n",
       "      <th></th>\n",
       "      <th></th>\n",
       "      <th></th>\n",
       "      <th></th>\n",
       "      <th></th>\n",
       "      <th></th>\n",
       "      <th></th>\n",
       "      <th></th>\n",
       "      <th></th>\n",
       "      <th></th>\n",
       "      <th></th>\n",
       "      <th></th>\n",
       "      <th></th>\n",
       "      <th></th>\n",
       "      <th></th>\n",
       "      <th></th>\n",
       "      <th></th>\n",
       "      <th></th>\n",
       "      <th></th>\n",
       "      <th></th>\n",
       "    </tr>\n",
       "  </thead>\n",
       "  <tbody>\n",
       "    <tr>\n",
       "      <th>917942</th>\n",
       "      <td>569.016486</td>\n",
       "      <td>6.609119e+04</td>\n",
       "      <td>2.203040e+04</td>\n",
       "      <td>2727.496301</td>\n",
       "      <td>316798.323817</td>\n",
       "      <td>105599.441272</td>\n",
       "      <td>7102.148507</td>\n",
       "      <td>824913.581531</td>\n",
       "      <td>274971.193844</td>\n",
       "      <td>5.246009</td>\n",
       "      <td>...</td>\n",
       "      <td>2459.956835</td>\n",
       "      <td>3.378358</td>\n",
       "      <td>115.064478</td>\n",
       "      <td>75.255911</td>\n",
       "      <td>423.842882</td>\n",
       "      <td>11701.016994</td>\n",
       "      <td>7035.449357</td>\n",
       "      <td>525.167956</td>\n",
       "      <td>17668.529358</td>\n",
       "      <td>11306.755390</td>\n",
       "    </tr>\n",
       "    <tr>\n",
       "      <th>565392</th>\n",
       "      <td>342379.210193</td>\n",
       "      <td>7.644795e+05</td>\n",
       "      <td>1.403496e+05</td>\n",
       "      <td>154070.644587</td>\n",
       "      <td>344015.793345</td>\n",
       "      <td>63157.301566</td>\n",
       "      <td>154070.644587</td>\n",
       "      <td>344015.793345</td>\n",
       "      <td>63157.301566</td>\n",
       "      <td>1448.251253</td>\n",
       "      <td>...</td>\n",
       "      <td>565.020043</td>\n",
       "      <td>1403.611486</td>\n",
       "      <td>1306.850954</td>\n",
       "      <td>527.809389</td>\n",
       "      <td>20152.205184</td>\n",
       "      <td>17037.870092</td>\n",
       "      <td>6336.338637</td>\n",
       "      <td>8385.114593</td>\n",
       "      <td>8325.319455</td>\n",
       "      <td>3420.475788</td>\n",
       "    </tr>\n",
       "    <tr>\n",
       "      <th>85886</th>\n",
       "      <td>117.023333</td>\n",
       "      <td>1.097094e+06</td>\n",
       "      <td>1.097094e+06</td>\n",
       "      <td>52.425000</td>\n",
       "      <td>491484.375000</td>\n",
       "      <td>491484.375000</td>\n",
       "      <td>52.660500</td>\n",
       "      <td>493692.187500</td>\n",
       "      <td>493692.187500</td>\n",
       "      <td>0.528007</td>\n",
       "      <td>...</td>\n",
       "      <td>4416.686177</td>\n",
       "      <td>0.329010</td>\n",
       "      <td>2003.713710</td>\n",
       "      <td>8027.478572</td>\n",
       "      <td>1.545811</td>\n",
       "      <td>7831.876915</td>\n",
       "      <td>22521.648813</td>\n",
       "      <td>0.570814</td>\n",
       "      <td>3454.769177</td>\n",
       "      <td>14798.920002</td>\n",
       "    </tr>\n",
       "    <tr>\n",
       "      <th>684704</th>\n",
       "      <td>140340.974007</td>\n",
       "      <td>1.719163e+02</td>\n",
       "      <td>4.297907e+01</td>\n",
       "      <td>3695.317120</td>\n",
       "      <td>4.526726</td>\n",
       "      <td>1.131681</td>\n",
       "      <td>3696.025149</td>\n",
       "      <td>4.527593</td>\n",
       "      <td>1.131898</td>\n",
       "      <td>640.632202</td>\n",
       "      <td>...</td>\n",
       "      <td>0.999982</td>\n",
       "      <td>833.230686</td>\n",
       "      <td>0.299305</td>\n",
       "      <td>0.146817</td>\n",
       "      <td>574.238674</td>\n",
       "      <td>0.167196</td>\n",
       "      <td>0.075397</td>\n",
       "      <td>273.302363</td>\n",
       "      <td>0.096975</td>\n",
       "      <td>0.046543</td>\n",
       "    </tr>\n",
       "    <tr>\n",
       "      <th>67129</th>\n",
       "      <td>54689.944325</td>\n",
       "      <td>1.086736e+06</td>\n",
       "      <td>1.995121e+05</td>\n",
       "      <td>23730.100233</td>\n",
       "      <td>471537.320539</td>\n",
       "      <td>86568.771925</td>\n",
       "      <td>24610.474946</td>\n",
       "      <td>489031.116579</td>\n",
       "      <td>89780.429568</td>\n",
       "      <td>96.512394</td>\n",
       "      <td>...</td>\n",
       "      <td>803.196794</td>\n",
       "      <td>153.760195</td>\n",
       "      <td>1984.796150</td>\n",
       "      <td>1459.837714</td>\n",
       "      <td>699.709267</td>\n",
       "      <td>7514.017623</td>\n",
       "      <td>3966.904298</td>\n",
       "      <td>266.765456</td>\n",
       "      <td>3422.151840</td>\n",
       "      <td>2691.258700</td>\n",
       "    </tr>\n",
       "    <tr>\n",
       "      <th>915469</th>\n",
       "      <td>541.225410</td>\n",
       "      <td>1.654176e+05</td>\n",
       "      <td>4.135439e+04</td>\n",
       "      <td>32.473525</td>\n",
       "      <td>9925.054104</td>\n",
       "      <td>2481.263526</td>\n",
       "      <td>32.473525</td>\n",
       "      <td>9925.054104</td>\n",
       "      <td>2481.263526</td>\n",
       "      <td>4.465243</td>\n",
       "      <td>...</td>\n",
       "      <td>2192.085373</td>\n",
       "      <td>3.213357</td>\n",
       "      <td>287.991287</td>\n",
       "      <td>141.266752</td>\n",
       "      <td>5.046266</td>\n",
       "      <td>366.584095</td>\n",
       "      <td>165.311517</td>\n",
       "      <td>2.401253</td>\n",
       "      <td>212.581189</td>\n",
       "      <td>102.029014</td>\n",
       "    </tr>\n",
       "    <tr>\n",
       "      <th>690833</th>\n",
       "      <td>742.923804</td>\n",
       "      <td>6.050000e+05</td>\n",
       "      <td>2.016667e+05</td>\n",
       "      <td>317.738073</td>\n",
       "      <td>258750.000000</td>\n",
       "      <td>86250.000000</td>\n",
       "      <td>334.315712</td>\n",
       "      <td>272250.000000</td>\n",
       "      <td>90750.000000</td>\n",
       "      <td>3.391318</td>\n",
       "      <td>...</td>\n",
       "      <td>811.870799</td>\n",
       "      <td>4.410878</td>\n",
       "      <td>1053.302441</td>\n",
       "      <td>688.894059</td>\n",
       "      <td>49.375327</td>\n",
       "      <td>9556.989162</td>\n",
       "      <td>5746.313614</td>\n",
       "      <td>24.720956</td>\n",
       "      <td>5831.225507</td>\n",
       "      <td>3731.620165</td>\n",
       "    </tr>\n",
       "    <tr>\n",
       "      <th>44248</th>\n",
       "      <td>577.944015</td>\n",
       "      <td>4.490625e+05</td>\n",
       "      <td>4.490625e+05</td>\n",
       "      <td>247.586873</td>\n",
       "      <td>192375.000000</td>\n",
       "      <td>192375.000000</td>\n",
       "      <td>260.074807</td>\n",
       "      <td>202078.125000</td>\n",
       "      <td>202078.125000</td>\n",
       "      <td>1.658375</td>\n",
       "      <td>...</td>\n",
       "      <td>1807.838333</td>\n",
       "      <td>1.624883</td>\n",
       "      <td>820.160253</td>\n",
       "      <td>3285.808160</td>\n",
       "      <td>7.300383</td>\n",
       "      <td>3065.524355</td>\n",
       "      <td>8815.340651</td>\n",
       "      <td>2.819083</td>\n",
       "      <td>1414.106391</td>\n",
       "      <td>6057.495099</td>\n",
       "    </tr>\n",
       "    <tr>\n",
       "      <th>1059883</th>\n",
       "      <td>128477.100866</td>\n",
       "      <td>5.675637e+02</td>\n",
       "      <td>1.041981e+02</td>\n",
       "      <td>24037.977336</td>\n",
       "      <td>106.190776</td>\n",
       "      <td>19.495392</td>\n",
       "      <td>59548.213689</td>\n",
       "      <td>263.061693</td>\n",
       "      <td>48.295070</td>\n",
       "      <td>899.479971</td>\n",
       "      <td>...</td>\n",
       "      <td>0.432059</td>\n",
       "      <td>832.692534</td>\n",
       "      <td>1.212988</td>\n",
       "      <td>0.407497</td>\n",
       "      <td>2259.165418</td>\n",
       "      <td>4.819389</td>\n",
       "      <td>1.533866</td>\n",
       "      <td>2556.478664</td>\n",
       "      <td>7.483342</td>\n",
       "      <td>2.421102</td>\n",
       "    </tr>\n",
       "    <tr>\n",
       "      <th>116647</th>\n",
       "      <td>85866.666667</td>\n",
       "      <td>5.043860e+03</td>\n",
       "      <td>1.441103e+02</td>\n",
       "      <td>10248.000000</td>\n",
       "      <td>601.973684</td>\n",
       "      <td>17.199248</td>\n",
       "      <td>38640.000000</td>\n",
       "      <td>2269.736842</td>\n",
       "      <td>64.849624</td>\n",
       "      <td>241.817007</td>\n",
       "      <td>...</td>\n",
       "      <td>8.094584</td>\n",
       "      <td>241.413218</td>\n",
       "      <td>9.212021</td>\n",
       "      <td>1.054461</td>\n",
       "      <td>302.174053</td>\n",
       "      <td>9.592541</td>\n",
       "      <td>0.788134</td>\n",
       "      <td>418.838615</td>\n",
       "      <td>15.883210</td>\n",
       "      <td>1.943933</td>\n",
       "    </tr>\n",
       "    <tr>\n",
       "      <th>565398</th>\n",
       "      <td>4914.746254</td>\n",
       "      <td>4.083448e+05</td>\n",
       "      <td>7.496736e+04</td>\n",
       "      <td>2211.635814</td>\n",
       "      <td>183755.167579</td>\n",
       "      <td>33735.313197</td>\n",
       "      <td>2211.635814</td>\n",
       "      <td>183755.167579</td>\n",
       "      <td>33735.313197</td>\n",
       "      <td>20.789193</td>\n",
       "      <td>...</td>\n",
       "      <td>301.804029</td>\n",
       "      <td>20.148403</td>\n",
       "      <td>698.051138</td>\n",
       "      <td>281.928053</td>\n",
       "      <td>289.278589</td>\n",
       "      <td>9100.735299</td>\n",
       "      <td>3384.539288</td>\n",
       "      <td>120.365692</td>\n",
       "      <td>4446.948370</td>\n",
       "      <td>1827.038507</td>\n",
       "    </tr>\n",
       "    <tr>\n",
       "      <th>39770</th>\n",
       "      <td>1387.755102</td>\n",
       "      <td>1.593750e+05</td>\n",
       "      <td>1.225962e+04</td>\n",
       "      <td>236.938776</td>\n",
       "      <td>27210.937500</td>\n",
       "      <td>2093.149038</td>\n",
       "      <td>624.489796</td>\n",
       "      <td>71718.750000</td>\n",
       "      <td>5516.826923</td>\n",
       "      <td>3.174943</td>\n",
       "      <td>...</td>\n",
       "      <td>688.614952</td>\n",
       "      <td>3.901659</td>\n",
       "      <td>291.079839</td>\n",
       "      <td>89.704093</td>\n",
       "      <td>6.986412</td>\n",
       "      <td>433.610353</td>\n",
       "      <td>95.915903</td>\n",
       "      <td>6.769163</td>\n",
       "      <td>501.874920</td>\n",
       "      <td>165.372437</td>\n",
       "    </tr>\n",
       "    <tr>\n",
       "      <th>501143</th>\n",
       "      <td>252.010888</td>\n",
       "      <td>2.060000e+05</td>\n",
       "      <td>2.060000e+05</td>\n",
       "      <td>110.377099</td>\n",
       "      <td>90225.000000</td>\n",
       "      <td>90225.000000</td>\n",
       "      <td>113.404900</td>\n",
       "      <td>92700.000000</td>\n",
       "      <td>92700.000000</td>\n",
       "      <td>1.107179</td>\n",
       "      <td>...</td>\n",
       "      <td>829.315956</td>\n",
       "      <td>1.033139</td>\n",
       "      <td>352.149773</td>\n",
       "      <td>774.699506</td>\n",
       "      <td>14.437156</td>\n",
       "      <td>4468.521093</td>\n",
       "      <td>9051.940779</td>\n",
       "      <td>6.171929</td>\n",
       "      <td>2243.376986</td>\n",
       "      <td>5020.450489</td>\n",
       "    </tr>\n",
       "    <tr>\n",
       "      <th>556609</th>\n",
       "      <td>77714.285714</td>\n",
       "      <td>2.492669e+04</td>\n",
       "      <td>2.492669e+04</td>\n",
       "      <td>34714.285714</td>\n",
       "      <td>11134.530792</td>\n",
       "      <td>11134.530792</td>\n",
       "      <td>34971.428571</td>\n",
       "      <td>11217.008798</td>\n",
       "      <td>11217.008798</td>\n",
       "      <td>415.776062</td>\n",
       "      <td>...</td>\n",
       "      <td>100.349993</td>\n",
       "      <td>318.596050</td>\n",
       "      <td>42.611296</td>\n",
       "      <td>93.741221</td>\n",
       "      <td>4540.575594</td>\n",
       "      <td>551.453430</td>\n",
       "      <td>1117.086321</td>\n",
       "      <td>1903.279089</td>\n",
       "      <td>271.456088</td>\n",
       "      <td>607.491233</td>\n",
       "    </tr>\n",
       "    <tr>\n",
       "      <th>106681</th>\n",
       "      <td>45600.000000</td>\n",
       "      <td>4.560000e+04</td>\n",
       "      <td>1.036364e+03</td>\n",
       "      <td>13500.000000</td>\n",
       "      <td>13500.000000</td>\n",
       "      <td>306.818182</td>\n",
       "      <td>20520.000000</td>\n",
       "      <td>20520.000000</td>\n",
       "      <td>466.363636</td>\n",
       "      <td>105.406828</td>\n",
       "      <td>...</td>\n",
       "      <td>58.211899</td>\n",
       "      <td>128.203914</td>\n",
       "      <td>83.283079</td>\n",
       "      <td>7.583114</td>\n",
       "      <td>398.063009</td>\n",
       "      <td>215.124516</td>\n",
       "      <td>14.059554</td>\n",
       "      <td>222.426718</td>\n",
       "      <td>143.595271</td>\n",
       "      <td>13.979719</td>\n",
       "    </tr>\n",
       "    <tr>\n",
       "      <th>738018</th>\n",
       "      <td>63.561390</td>\n",
       "      <td>8.564826e+04</td>\n",
       "      <td>2.141206e+04</td>\n",
       "      <td>3.813683</td>\n",
       "      <td>5138.895570</td>\n",
       "      <td>1284.723892</td>\n",
       "      <td>3.813683</td>\n",
       "      <td>5138.895570</td>\n",
       "      <td>1284.723892</td>\n",
       "      <td>1.000000</td>\n",
       "      <td>...</td>\n",
       "      <td>1134.996111</td>\n",
       "      <td>0.377376</td>\n",
       "      <td>149.113258</td>\n",
       "      <td>73.143691</td>\n",
       "      <td>0.592632</td>\n",
       "      <td>189.806258</td>\n",
       "      <td>85.593349</td>\n",
       "      <td>0.282003</td>\n",
       "      <td>110.068169</td>\n",
       "      <td>52.827566</td>\n",
       "    </tr>\n",
       "    <tr>\n",
       "      <th>151044</th>\n",
       "      <td>3412.325823</td>\n",
       "      <td>2.939974e+05</td>\n",
       "      <td>4.899956e+04</td>\n",
       "      <td>161.512620</td>\n",
       "      <td>13915.519577</td>\n",
       "      <td>2319.253263</td>\n",
       "      <td>1535.546620</td>\n",
       "      <td>132298.820486</td>\n",
       "      <td>22049.803414</td>\n",
       "      <td>22.206158</td>\n",
       "      <td>...</td>\n",
       "      <td>197.262716</td>\n",
       "      <td>25.365730</td>\n",
       "      <td>742.342138</td>\n",
       "      <td>248.085699</td>\n",
       "      <td>27.308392</td>\n",
       "      <td>645.980687</td>\n",
       "      <td>171.545121</td>\n",
       "      <td>96.928823</td>\n",
       "      <td>3007.547952</td>\n",
       "      <td>973.855224</td>\n",
       "    </tr>\n",
       "    <tr>\n",
       "      <th>957064</th>\n",
       "      <td>23.258534</td>\n",
       "      <td>2.063125e+05</td>\n",
       "      <td>2.063125e+05</td>\n",
       "      <td>10.230655</td>\n",
       "      <td>90750.000000</td>\n",
       "      <td>90750.000000</td>\n",
       "      <td>10.466340</td>\n",
       "      <td>92840.625000</td>\n",
       "      <td>92840.625000</td>\n",
       "      <td>0.205370</td>\n",
       "      <td>...</td>\n",
       "      <td>830.574021</td>\n",
       "      <td>0.150744</td>\n",
       "      <td>440.927672</td>\n",
       "      <td>806.844429</td>\n",
       "      <td>0.961509</td>\n",
       "      <td>4118.620825</td>\n",
       "      <td>7140.061227</td>\n",
       "      <td>0.449333</td>\n",
       "      <td>2641.046365</td>\n",
       "      <td>4654.234974</td>\n",
       "    </tr>\n",
       "    <tr>\n",
       "      <th>1065870</th>\n",
       "      <td>67.454104</td>\n",
       "      <td>8.886523e+04</td>\n",
       "      <td>2.221631e+04</td>\n",
       "      <td>4.047246</td>\n",
       "      <td>5331.913842</td>\n",
       "      <td>1332.978461</td>\n",
       "      <td>4.047246</td>\n",
       "      <td>5331.913842</td>\n",
       "      <td>1332.978461</td>\n",
       "      <td>0.472252</td>\n",
       "      <td>...</td>\n",
       "      <td>1177.626864</td>\n",
       "      <td>0.437187</td>\n",
       "      <td>189.921307</td>\n",
       "      <td>86.883268</td>\n",
       "      <td>0.380373</td>\n",
       "      <td>241.984919</td>\n",
       "      <td>104.876560</td>\n",
       "      <td>0.173753</td>\n",
       "      <td>151.677476</td>\n",
       "      <td>66.824141</td>\n",
       "    </tr>\n",
       "    <tr>\n",
       "      <th>33751</th>\n",
       "      <td>1204.416193</td>\n",
       "      <td>1.800000e+05</td>\n",
       "      <td>1.200000e+04</td>\n",
       "      <td>45.165607</td>\n",
       "      <td>6750.000000</td>\n",
       "      <td>450.000000</td>\n",
       "      <td>541.987287</td>\n",
       "      <td>81000.000000</td>\n",
       "      <td>5400.000000</td>\n",
       "      <td>2.755496</td>\n",
       "      <td>...</td>\n",
       "      <td>674.032517</td>\n",
       "      <td>3.386203</td>\n",
       "      <td>328.748995</td>\n",
       "      <td>87.804477</td>\n",
       "      <td>1.331760</td>\n",
       "      <td>107.562258</td>\n",
       "      <td>20.620680</td>\n",
       "      <td>5.874876</td>\n",
       "      <td>566.823439</td>\n",
       "      <td>161.870433</td>\n",
       "    </tr>\n",
       "  </tbody>\n",
       "</table>\n",
       "<p>20 rows × 45 columns</p>\n",
       "</div>"
      ],
      "text/plain": [
       "                    r1            r2            r3             r4  \\\n",
       "RECORD                                                              \n",
       "917942      569.016486  6.609119e+04  2.203040e+04    2727.496301   \n",
       "565392   342379.210193  7.644795e+05  1.403496e+05  154070.644587   \n",
       "85886       117.023333  1.097094e+06  1.097094e+06      52.425000   \n",
       "684704   140340.974007  1.719163e+02  4.297907e+01    3695.317120   \n",
       "67129     54689.944325  1.086736e+06  1.995121e+05   23730.100233   \n",
       "915469      541.225410  1.654176e+05  4.135439e+04      32.473525   \n",
       "690833      742.923804  6.050000e+05  2.016667e+05     317.738073   \n",
       "44248       577.944015  4.490625e+05  4.490625e+05     247.586873   \n",
       "1059883  128477.100866  5.675637e+02  1.041981e+02   24037.977336   \n",
       "116647    85866.666667  5.043860e+03  1.441103e+02   10248.000000   \n",
       "565398     4914.746254  4.083448e+05  7.496736e+04    2211.635814   \n",
       "39770      1387.755102  1.593750e+05  1.225962e+04     236.938776   \n",
       "501143      252.010888  2.060000e+05  2.060000e+05     110.377099   \n",
       "556609    77714.285714  2.492669e+04  2.492669e+04   34714.285714   \n",
       "106681    45600.000000  4.560000e+04  1.036364e+03   13500.000000   \n",
       "738018       63.561390  8.564826e+04  2.141206e+04       3.813683   \n",
       "151044     3412.325823  2.939974e+05  4.899956e+04     161.512620   \n",
       "957064       23.258534  2.063125e+05  2.063125e+05      10.230655   \n",
       "1065870      67.454104  8.886523e+04  2.221631e+04       4.047246   \n",
       "33751      1204.416193  1.800000e+05  1.200000e+04      45.165607   \n",
       "\n",
       "                    r5             r6             r7             r8  \\\n",
       "RECORD                                                                \n",
       "917942   316798.323817  105599.441272    7102.148507  824913.581531   \n",
       "565392   344015.793345   63157.301566  154070.644587  344015.793345   \n",
       "85886    491484.375000  491484.375000      52.660500  493692.187500   \n",
       "684704        4.526726       1.131681    3696.025149       4.527593   \n",
       "67129    471537.320539   86568.771925   24610.474946  489031.116579   \n",
       "915469     9925.054104    2481.263526      32.473525    9925.054104   \n",
       "690833   258750.000000   86250.000000     334.315712  272250.000000   \n",
       "44248    192375.000000  192375.000000     260.074807  202078.125000   \n",
       "1059883     106.190776      19.495392   59548.213689     263.061693   \n",
       "116647      601.973684      17.199248   38640.000000    2269.736842   \n",
       "565398   183755.167579   33735.313197    2211.635814  183755.167579   \n",
       "39770     27210.937500    2093.149038     624.489796   71718.750000   \n",
       "501143    90225.000000   90225.000000     113.404900   92700.000000   \n",
       "556609    11134.530792   11134.530792   34971.428571   11217.008798   \n",
       "106681    13500.000000     306.818182   20520.000000   20520.000000   \n",
       "738018     5138.895570    1284.723892       3.813683    5138.895570   \n",
       "151044    13915.519577    2319.253263    1535.546620  132298.820486   \n",
       "957064    90750.000000   90750.000000      10.466340   92840.625000   \n",
       "1065870    5331.913842    1332.978461       4.047246    5331.913842   \n",
       "33751      6750.000000     450.000000     541.987287   81000.000000   \n",
       "\n",
       "                    r9      r1_zip5  ...  r9_taxclass      r1_boro  \\\n",
       "RECORD                               ...                             \n",
       "917942   274971.193844     5.246009  ...  2459.956835     3.378358   \n",
       "565392    63157.301566  1448.251253  ...   565.020043  1403.611486   \n",
       "85886    493692.187500     0.528007  ...  4416.686177     0.329010   \n",
       "684704        1.131898   640.632202  ...     0.999982   833.230686   \n",
       "67129     89780.429568    96.512394  ...   803.196794   153.760195   \n",
       "915469     2481.263526     4.465243  ...  2192.085373     3.213357   \n",
       "690833    90750.000000     3.391318  ...   811.870799     4.410878   \n",
       "44248    202078.125000     1.658375  ...  1807.838333     1.624883   \n",
       "1059883      48.295070   899.479971  ...     0.432059   832.692534   \n",
       "116647       64.849624   241.817007  ...     8.094584   241.413218   \n",
       "565398    33735.313197    20.789193  ...   301.804029    20.148403   \n",
       "39770      5516.826923     3.174943  ...   688.614952     3.901659   \n",
       "501143    92700.000000     1.107179  ...   829.315956     1.033139   \n",
       "556609    11217.008798   415.776062  ...   100.349993   318.596050   \n",
       "106681      466.363636   105.406828  ...    58.211899   128.203914   \n",
       "738018     1284.723892     1.000000  ...  1134.996111     0.377376   \n",
       "151044    22049.803414    22.206158  ...   197.262716    25.365730   \n",
       "957064    92840.625000     0.205370  ...   830.574021     0.150744   \n",
       "1065870    1332.978461     0.472252  ...  1177.626864     0.437187   \n",
       "33751      5400.000000     2.755496  ...   674.032517     3.386203   \n",
       "\n",
       "             r2_boro      r3_boro       r4_boro       r5_boro       r6_boro  \\\n",
       "RECORD                                                                        \n",
       "917942    115.064478    75.255911    423.842882  11701.016994   7035.449357   \n",
       "565392   1306.850954   527.809389  20152.205184  17037.870092   6336.338637   \n",
       "85886    2003.713710  8027.478572      1.545811   7831.876915  22521.648813   \n",
       "684704      0.299305     0.146817    574.238674      0.167196      0.075397   \n",
       "67129    1984.796150  1459.837714    699.709267   7514.017623   3966.904298   \n",
       "915469    287.991287   141.266752      5.046266    366.584095    165.311517   \n",
       "690833   1053.302441   688.894059     49.375327   9556.989162   5746.313614   \n",
       "44248     820.160253  3285.808160      7.300383   3065.524355   8815.340651   \n",
       "1059883     1.212988     0.407497   2259.165418      4.819389      1.533866   \n",
       "116647      9.212021     1.054461    302.174053      9.592541      0.788134   \n",
       "565398    698.051138   281.928053    289.278589   9100.735299   3384.539288   \n",
       "39770     291.079839    89.704093      6.986412    433.610353     95.915903   \n",
       "501143    352.149773   774.699506     14.437156   4468.521093   9051.940779   \n",
       "556609     42.611296    93.741221   4540.575594    551.453430   1117.086321   \n",
       "106681     83.283079     7.583114    398.063009    215.124516     14.059554   \n",
       "738018    149.113258    73.143691      0.592632    189.806258     85.593349   \n",
       "151044    742.342138   248.085699     27.308392    645.980687    171.545121   \n",
       "957064    440.927672   806.844429      0.961509   4118.620825   7140.061227   \n",
       "1065870   189.921307    86.883268      0.380373    241.984919    104.876560   \n",
       "33751     328.748995    87.804477      1.331760    107.562258     20.620680   \n",
       "\n",
       "             r7_boro       r8_boro       r9_boro  \n",
       "RECORD                                            \n",
       "917942    525.167956  17668.529358  11306.755390  \n",
       "565392   8385.114593   8325.319455   3420.475788  \n",
       "85886       0.570814   3454.769177  14798.920002  \n",
       "684704    273.302363      0.096975      0.046543  \n",
       "67129     266.765456   3422.151840   2691.258700  \n",
       "915469      2.401253    212.581189    102.029014  \n",
       "690833     24.720956   5831.225507   3731.620165  \n",
       "44248       2.819083   1414.106391   6057.495099  \n",
       "1059883  2556.478664      7.483342      2.421102  \n",
       "116647    418.838615     15.883210      1.943933  \n",
       "565398    120.365692   4446.948370   1827.038507  \n",
       "39770       6.769163    501.874920    165.372437  \n",
       "501143      6.171929   2243.376986   5020.450489  \n",
       "556609   1903.279089    271.456088    607.491233  \n",
       "106681    222.426718    143.595271     13.979719  \n",
       "738018      0.282003    110.068169     52.827566  \n",
       "151044     96.928823   3007.547952    973.855224  \n",
       "957064      0.449333   2641.046365   4654.234974  \n",
       "1065870     0.173753    151.677476     66.824141  \n",
       "33751       5.874876    566.823439    161.870433  \n",
       "\n",
       "[20 rows x 45 columns]"
      ]
     },
     "execution_count": 298,
     "metadata": {},
     "output_type": "execute_result"
    }
   ],
   "source": [
    "data2.head(20)"
   ]
  },
  {
   "cell_type": "code",
   "execution_count": 291,
   "metadata": {},
   "outputs": [
    {
     "data": {
      "image/png": "[encoded data removed]",
      "text/plain": [
       "<Figure size 1440x720 with 2 Axes>"
      ]
     },
     "metadata": {
      "needs_background": "light"
     },
     "output_type": "display_data"
    }
   ],
   "source": [
    "data_heatmap = data2.abs().head(20)\n",
    "plt.rcParams['figure.figsize'] = (20,10)\n",
    "ax = sns.heatmap(data_heatmap, center=0, vmin=0, vmax=50, cmap='Reds')\n",
    "ax.xaxis.tick_top()\n",
    "ax.xaxis.set_label_position('top')\n",
    "plt.xticks(rotation=90)\n",
    "plt.savefig('heatmap.png')"
   ]
  },
  {
   "cell_type": "code",
   "execution_count": 295,
   "metadata": {},
   "outputs": [
    {
     "name": "stdout",
     "output_type": "stream",
     "text": [
      "Percentage of similarity: 94 %\n"
     ]
    }
   ],
   "source": [
    "print(f'Percentage of similarity: {top100.isin(top100_orig).sum()} %')"
   ]
  },
  {
   "cell_type": "code",
   "execution_count": null,
   "metadata": {},
   "outputs": [],
   "source": []
  }
 ],
 "metadata": {
  "kernelspec": {
   "display_name": "Python 3",
   "language": "python",
   "name": "python3"
  },
  "language_info": {
   "codemirror_mode": {
    "name": "ipython",
    "version": 3
   },
   "file_extension": ".py",
   "mimetype": "text/x-python",
   "name": "python",
   "nbconvert_exporter": "python",
   "pygments_lexer": "ipython3",
   "version": "3.8.5"
  },
  "toc": {
   "base_numbering": 1,
   "nav_menu": {},
   "number_sections": true,
   "sideBar": true,
   "skip_h1_title": false,
   "title_cell": "Table of Contents",
   "title_sidebar": "Contents",
   "toc_cell": false,
   "toc_position": {},
   "toc_section_display": true,
   "toc_window_display": false
  },
  "varInspector": {
   "cols": {
    "lenName": 16,
    "lenType": 16,
    "lenVar": 40
   },
   "kernels_config": {
    "python": {
     "delete_cmd_postfix": "",
     "delete_cmd_prefix": "del ",
     "library": "var_list.py",
     "varRefreshCmd": "print(var_dic_list())"
    },
    "r": {
     "delete_cmd_postfix": ") ",
     "delete_cmd_prefix": "rm(",
     "library": "var_list.r",
     "varRefreshCmd": "cat(var_dic_list()) "
    }
   },
   "types_to_exclude": [
    "module",
    "function",
    "builtin_function_or_method",
    "instance",
    "_Feature"
   ],
   "window_display": false
  }
 },
 "nbformat": 4,
 "nbformat_minor": 4
}
